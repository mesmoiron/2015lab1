{
 "cells": [
  {
   "cell_type": "markdown",
   "metadata": {},
   "source": [
    "#Lab 1. An Introduction to Pandas and Python"
   ]
  },
  {
   "cell_type": "markdown",
   "metadata": {},
   "source": [
    "## Markdown cell are use to make comments\n",
    "The number of hashes denotes the header size."
   ]
  },
  {
   "cell_type": "markdown",
   "metadata": {},
   "source": [
    "Want to make a list\n",
    "put a line and write\n",
    "- book\n",
    "- milk\n",
    "\n",
    "1. test\n",
    "2. second item\n",
    "\n",
    "\n",
    "Hello this is math enclosed bewteen 2 dollars. Dubble click to edit cell\n",
    "$ x + 5 = 3 $\n",
    "\n",
    "Making bold is dubble star\n",
    "**I am important**\n",
    "\n",
    "shift enter is render\n",
    "\n",
    "> quoted this is a quoted use the right arrow\n",
    "\n",
    "`git commands are used with backtick`\n",
    "\n",
    "```communicate python function console.log(\"Hello World\") ```\n"
   ]
  },
  {
   "cell_type": "code",
   "execution_count": 2,
   "metadata": {
    "collapsed": false
   },
   "outputs": [],
   "source": [
    "# The %... is an iPython thing, and is not part of the Python language.\n",
    "# In this case we're just telling the plotting library to draw things on\n",
    "# the notebook, instead of on a separate window.\n",
    "%matplotlib inline \n",
    "#this line above prepares IPython notebook for working with matplotlib\n",
    "\n",
    "# See all the \"as ...\" contructs? They're just aliasing the package names.\n",
    "# That way we can call methods like plt.plot() instead of matplotlib.pyplot.plot().\n",
    "\n",
    "import numpy as np # imports a fast numerical programming library\n",
    "import scipy as sp #imports stats functions, amongst other things\n",
    "import matplotlib as mpl # this actually imports matplotlib\n",
    "import matplotlib.cm as cm #allows us easy access to colormaps\n",
    "import matplotlib.pyplot as plt #sets up plotting under plt\n",
    "import pandas as pd #lets us handle data as dataframes\n",
    "#sets up pandas table display\n",
    "pd.set_option('display.width', 500)\n",
    "pd.set_option('display.max_columns', 100)\n",
    "pd.set_option('display.notebook_repr_html', True)\n",
    "import seaborn as sns #sets up styles and gives us more plotting options"
   ]
  },
  {
   "cell_type": "markdown",
   "metadata": {},
   "source": [
    "Python depends on packages for most of its functionality; these can be either built-in (such as sys), or third-party (like all the packages below). Either way you need to import the packages you need before using them."
   ]
  },
  {
   "cell_type": "markdown",
   "metadata": {},
   "source": [
    "##The Notebook\n",
    "\n",
    "Look up http:/www.google.com Lets eat a burrito. $\\alpha = \\frac{\\beta}{\\gamma}$\n",
    "\n",
    "Longer:\n",
    "\n",
    "$$\\alpha = \\frac{\\beta}{\\gamma}$$\n",
    "\n",
    "1. an item\n",
    "2. another item\n",
    "3. i like items"
   ]
  },
  {
   "cell_type": "markdown",
   "metadata": {},
   "source": [
    "##Pandas"
   ]
  },
  {
   "cell_type": "markdown",
   "metadata": {},
   "source": [
    "Get Cheatsheet:\n",
    "\n",
    "from https://drive.google.com/folderview?id=0ByIrJAE4KMTtaGhRcXkxNHhmY2M&usp=sharing\n",
    "\n",
    "\n",
    "We read in some data from a CSV file. CSV files can be output by any spreadsheet software, and are plain text, so make a great way to share data. This dataset is from Goodreads: i scraped the highest regarded (according to Goodread's proprietary algorithm) books on that site. Ypu'll see how to do such a scraping in the next lab."
   ]
  },
  {
   "cell_type": "code",
   "execution_count": 3,
   "metadata": {
    "collapsed": false
   },
   "outputs": [
    {
     "data": {
      "text/html": [
       "<div>\n",
       "<table border=\"1\" class=\"dataframe\">\n",
       "  <thead>\n",
       "    <tr style=\"text-align: right;\">\n",
       "      <th></th>\n",
       "      <th>rating</th>\n",
       "      <th>review_count</th>\n",
       "      <th>isbn</th>\n",
       "      <th>booktype</th>\n",
       "      <th>author_url</th>\n",
       "      <th>year</th>\n",
       "      <th>genre_urls</th>\n",
       "      <th>dir</th>\n",
       "      <th>rating_count</th>\n",
       "      <th>name</th>\n",
       "    </tr>\n",
       "  </thead>\n",
       "  <tbody>\n",
       "    <tr>\n",
       "      <th>0</th>\n",
       "      <td>4.40</td>\n",
       "      <td>136455</td>\n",
       "      <td>0439023483</td>\n",
       "      <td>good_reads:book</td>\n",
       "      <td>https://www.goodreads.com/author/show/153394.S...</td>\n",
       "      <td>2008.0</td>\n",
       "      <td>/genres/young-adult|/genres/science-fiction|/g...</td>\n",
       "      <td>dir01/2767052-the-hunger-games.html</td>\n",
       "      <td>2958974</td>\n",
       "      <td>The Hunger Games (The Hunger Games, #1)</td>\n",
       "    </tr>\n",
       "    <tr>\n",
       "      <th>1</th>\n",
       "      <td>4.41</td>\n",
       "      <td>16648</td>\n",
       "      <td>0439358078</td>\n",
       "      <td>good_reads:book</td>\n",
       "      <td>https://www.goodreads.com/author/show/1077326....</td>\n",
       "      <td>2003.0</td>\n",
       "      <td>/genres/fantasy|/genres/young-adult|/genres/fi...</td>\n",
       "      <td>dir01/2.Harry_Potter_and_the_Order_of_the_Phoe...</td>\n",
       "      <td>1284478</td>\n",
       "      <td>Harry Potter and the Order of the Phoenix (Har...</td>\n",
       "    </tr>\n",
       "    <tr>\n",
       "      <th>2</th>\n",
       "      <td>3.56</td>\n",
       "      <td>85746</td>\n",
       "      <td>0316015849</td>\n",
       "      <td>good_reads:book</td>\n",
       "      <td>https://www.goodreads.com/author/show/941441.S...</td>\n",
       "      <td>2005.0</td>\n",
       "      <td>/genres/young-adult|/genres/fantasy|/genres/ro...</td>\n",
       "      <td>dir01/41865.Twilight.html</td>\n",
       "      <td>2579564</td>\n",
       "      <td>Twilight (Twilight, #1)</td>\n",
       "    </tr>\n",
       "    <tr>\n",
       "      <th>3</th>\n",
       "      <td>4.23</td>\n",
       "      <td>47906</td>\n",
       "      <td>0061120081</td>\n",
       "      <td>good_reads:book</td>\n",
       "      <td>https://www.goodreads.com/author/show/1825.Har...</td>\n",
       "      <td>1960.0</td>\n",
       "      <td>/genres/classics|/genres/fiction|/genres/histo...</td>\n",
       "      <td>dir01/2657.To_Kill_a_Mockingbird.html</td>\n",
       "      <td>2078123</td>\n",
       "      <td>To Kill a Mockingbird</td>\n",
       "    </tr>\n",
       "    <tr>\n",
       "      <th>4</th>\n",
       "      <td>4.23</td>\n",
       "      <td>34772</td>\n",
       "      <td>0679783261</td>\n",
       "      <td>good_reads:book</td>\n",
       "      <td>https://www.goodreads.com/author/show/1265.Jan...</td>\n",
       "      <td>1813.0</td>\n",
       "      <td>/genres/classics|/genres/fiction|/genres/roman...</td>\n",
       "      <td>dir01/1885.Pride_and_Prejudice.html</td>\n",
       "      <td>1388992</td>\n",
       "      <td>Pride and Prejudice</td>\n",
       "    </tr>\n",
       "  </tbody>\n",
       "</table>\n",
       "</div>"
      ],
      "text/plain": [
       "   rating review_count        isbn         booktype                                         author_url    year                                         genre_urls                                                dir rating_count                                               name\n",
       "0    4.40       136455  0439023483  good_reads:book  https://www.goodreads.com/author/show/153394.S...  2008.0  /genres/young-adult|/genres/science-fiction|/g...                dir01/2767052-the-hunger-games.html      2958974            The Hunger Games (The Hunger Games, #1)\n",
       "1    4.41        16648  0439358078  good_reads:book  https://www.goodreads.com/author/show/1077326....  2003.0  /genres/fantasy|/genres/young-adult|/genres/fi...  dir01/2.Harry_Potter_and_the_Order_of_the_Phoe...      1284478  Harry Potter and the Order of the Phoenix (Har...\n",
       "2    3.56        85746  0316015849  good_reads:book  https://www.goodreads.com/author/show/941441.S...  2005.0  /genres/young-adult|/genres/fantasy|/genres/ro...                          dir01/41865.Twilight.html      2579564                            Twilight (Twilight, #1)\n",
       "3    4.23        47906  0061120081  good_reads:book  https://www.goodreads.com/author/show/1825.Har...  1960.0  /genres/classics|/genres/fiction|/genres/histo...              dir01/2657.To_Kill_a_Mockingbird.html      2078123                              To Kill a Mockingbird\n",
       "4    4.23        34772  0679783261  good_reads:book  https://www.goodreads.com/author/show/1265.Jan...  1813.0  /genres/classics|/genres/fiction|/genres/roman...                dir01/1885.Pride_and_Prejudice.html      1388992                                Pride and Prejudice"
      ]
     },
     "execution_count": 3,
     "metadata": {},
     "output_type": "execute_result"
    }
   ],
   "source": [
    "df=pd.read_csv(\"all.csv\", header=None,\n",
    "               names=[\"rating\", 'review_count', 'isbn', 'booktype','author_url', 'year', 'genre_urls', 'dir','rating_count', 'name'],\n",
    ")\n",
    "df.head()"
   ]
  },
  {
   "cell_type": "markdown",
   "metadata": {},
   "source": [
    "Notice we have a table! A spreadsheet! And it indexed the rows. Pandas (borrowing from R) calls it a DataFrame. Lets see the types of the columns...\n",
    "\n",
    "`df`, in python parlance, is an **instance** of the `pd.DataFrame` class, created by calling the `pd.read_csv` function, which cllas the DataFrame constructor inside of it. If you dont understand this sentence, dont worry, it will become clearer later. What you need to take away is that `df` is a dataframe object, and it has **methods**, or functions belonging to it, which allow it to do things. For example `df.head()` is a method that shows the first 5 rows of the dataframe.\n",
    "\n",
    "![](files/pandastruct.png)\n",
    "\n",
    "### The basics"
   ]
  },
  {
   "cell_type": "code",
   "execution_count": 4,
   "metadata": {
    "collapsed": false
   },
   "outputs": [
    {
     "data": {
      "text/plain": [
       "rating          float64\n",
       "review_count     object\n",
       "isbn             object\n",
       "booktype         object\n",
       "author_url       object\n",
       "year            float64\n",
       "genre_urls       object\n",
       "dir              object\n",
       "rating_count     object\n",
       "name             object\n",
       "dtype: object"
      ]
     },
     "execution_count": 4,
     "metadata": {},
     "output_type": "execute_result"
    }
   ],
   "source": [
    "# First thing to do checking if the data types are correct. Object says that\n",
    "# something is wrong with the column\n",
    "df.dtypes"
   ]
  },
  {
   "cell_type": "markdown",
   "metadata": {},
   "source": [
    "The shape of the object is:"
   ]
  },
  {
   "cell_type": "code",
   "execution_count": 5,
   "metadata": {
    "collapsed": false
   },
   "outputs": [
    {
     "data": {
      "text/plain": [
       "(6000, 10)"
      ]
     },
     "execution_count": 5,
     "metadata": {},
     "output_type": "execute_result"
    }
   ],
   "source": [
    "df.shape"
   ]
  },
  {
   "cell_type": "markdown",
   "metadata": {},
   "source": [
    "6000 rows times 10 columns. A spredsheet is a table is a matrix. How can we access members of this **tuple** (brackets like so:() )"
   ]
  },
  {
   "cell_type": "code",
   "execution_count": 8,
   "metadata": {
    "collapsed": false
   },
   "outputs": [
    {
     "data": {
      "text/plain": [
       "(6000, 10)"
      ]
     },
     "execution_count": 8,
     "metadata": {},
     "output_type": "execute_result"
    }
   ],
   "source": [
    "df.shape[0], df.shape[1]"
   ]
  },
  {
   "cell_type": "markdown",
   "metadata": {},
   "source": [
    "These are the column names."
   ]
  },
  {
   "cell_type": "code",
   "execution_count": 9,
   "metadata": {
    "collapsed": false
   },
   "outputs": [
    {
     "data": {
      "text/plain": [
       "Index([u'rating', u'review_count', u'isbn', u'booktype', u'author_url', u'year', u'genre_urls', u'dir', u'rating_count', u'name'], dtype='object')"
      ]
     },
     "execution_count": 9,
     "metadata": {},
     "output_type": "execute_result"
    }
   ],
   "source": [
    "df.columns"
   ]
  },
  {
   "cell_type": "markdown",
   "metadata": {},
   "source": [
    "As the diagram above shows, pandas considers a table (dataframe) as a pasting of many \"series\" together, horizontally."
   ]
  },
  {
   "cell_type": "code",
   "execution_count": 10,
   "metadata": {
    "collapsed": false
   },
   "outputs": [
    {
     "data": {
      "text/plain": [
       "(pandas.core.series.Series, pandas.core.frame.DataFrame)"
      ]
     },
     "execution_count": 10,
     "metadata": {},
     "output_type": "execute_result"
    }
   ],
   "source": [
    "type(df.rating), type(df)"
   ]
  },
  {
   "cell_type": "markdown",
   "metadata": {},
   "source": [
    "### Querying\n",
    "\n",
    "A spreadsheet is useless if you cant dice/sort/etc it. Here we look for all books with a rating less than 3. "
   ]
  },
  {
   "cell_type": "code",
   "execution_count": 11,
   "metadata": {
    "collapsed": false
   },
   "outputs": [
    {
     "data": {
      "text/plain": [
       "0       4.40\n",
       "1       4.41\n",
       "2       3.56\n",
       "3       4.23\n",
       "4       4.23\n",
       "5       4.25\n",
       "6       4.22\n",
       "7       4.38\n",
       "8       3.79\n",
       "9       4.18\n",
       "10      4.03\n",
       "11      3.72\n",
       "12      4.36\n",
       "13      4.05\n",
       "14      3.72\n",
       "15      4.09\n",
       "16      3.92\n",
       "17      4.58\n",
       "18      3.60\n",
       "19      4.28\n",
       "20      4.02\n",
       "21      4.14\n",
       "22      4.11\n",
       "23      4.20\n",
       "24      3.75\n",
       "25      3.94\n",
       "26      4.43\n",
       "27      3.79\n",
       "28      4.04\n",
       "29      3.94\n",
       "        ... \n",
       "5970    3.97\n",
       "5971    4.24\n",
       "5972    4.19\n",
       "5973    4.17\n",
       "5974    3.99\n",
       "5975    4.07\n",
       "5976    4.23\n",
       "5977    4.03\n",
       "5978    3.99\n",
       "5979    2.77\n",
       "5980    3.84\n",
       "5981    3.36\n",
       "5982    4.09\n",
       "5983    4.23\n",
       "5984    4.02\n",
       "5985    3.61\n",
       "5986    4.06\n",
       "5987    4.26\n",
       "5988    4.34\n",
       "5989    3.36\n",
       "5990    4.12\n",
       "5991    4.20\n",
       "5992    3.89\n",
       "5993    4.09\n",
       "5994    4.37\n",
       "5995    4.17\n",
       "5996    3.99\n",
       "5997    3.78\n",
       "5998    3.91\n",
       "5999    4.35\n",
       "Name: rating, dtype: float64"
      ]
     },
     "execution_count": 11,
     "metadata": {},
     "output_type": "execute_result"
    }
   ],
   "source": [
    "df.rating # behaves like a list pandas series\n"
   ]
  },
  {
   "cell_type": "code",
   "execution_count": 15,
   "metadata": {
    "collapsed": false
   },
   "outputs": [
    {
     "data": {
      "text/plain": [
       "0       False\n",
       "1       False\n",
       "2       False\n",
       "3       False\n",
       "4       False\n",
       "5       False\n",
       "6       False\n",
       "7       False\n",
       "8       False\n",
       "9       False\n",
       "10      False\n",
       "11      False\n",
       "12      False\n",
       "13      False\n",
       "14      False\n",
       "15      False\n",
       "16      False\n",
       "17      False\n",
       "18      False\n",
       "19      False\n",
       "20      False\n",
       "21      False\n",
       "22      False\n",
       "23      False\n",
       "24      False\n",
       "25      False\n",
       "26      False\n",
       "27      False\n",
       "28      False\n",
       "29      False\n",
       "        ...  \n",
       "5970    False\n",
       "5971    False\n",
       "5972    False\n",
       "5973    False\n",
       "5974    False\n",
       "5975    False\n",
       "5976    False\n",
       "5977    False\n",
       "5978    False\n",
       "5979     True\n",
       "5980    False\n",
       "5981    False\n",
       "5982    False\n",
       "5983    False\n",
       "5984    False\n",
       "5985    False\n",
       "5986    False\n",
       "5987    False\n",
       "5988    False\n",
       "5989    False\n",
       "5990    False\n",
       "5991    False\n",
       "5992    False\n",
       "5993    False\n",
       "5994    False\n",
       "5995    False\n",
       "5996    False\n",
       "5997    False\n",
       "5998    False\n",
       "5999    False\n",
       "Name: rating, dtype: bool"
      ]
     },
     "execution_count": 15,
     "metadata": {},
     "output_type": "execute_result"
    }
   ],
   "source": [
    "df.rating < 3 "
   ]
  },
  {
   "cell_type": "markdown",
   "metadata": {},
   "source": [
    "This gives us `True`s and `False`s. Such a series is called a mask. If we count the number of `True`s, and divide by the total, we'll get the fraction of ratings $\\lt$ 3. To do this numerically see this:"
   ]
  },
  {
   "cell_type": "code",
   "execution_count": 16,
   "metadata": {
    "collapsed": false
   },
   "outputs": [
    {
     "data": {
      "text/plain": [
       "4"
      ]
     },
     "execution_count": 16,
     "metadata": {},
     "output_type": "execute_result"
    }
   ],
   "source": [
    "np.sum(df.rating < 3) \n",
    "# gives only the ones that are true all summed indexing list"
   ]
  },
  {
   "cell_type": "code",
   "execution_count": 20,
   "metadata": {
    "collapsed": false
   },
   "outputs": [
    {
     "data": {
      "text/html": [
       "<div>\n",
       "<table border=\"1\" class=\"dataframe\">\n",
       "  <thead>\n",
       "    <tr style=\"text-align: right;\">\n",
       "      <th></th>\n",
       "      <th>rating</th>\n",
       "      <th>review_count</th>\n",
       "      <th>isbn</th>\n",
       "      <th>booktype</th>\n",
       "      <th>author_url</th>\n",
       "      <th>year</th>\n",
       "      <th>genre_urls</th>\n",
       "      <th>dir</th>\n",
       "      <th>rating_count</th>\n",
       "      <th>name</th>\n",
       "    </tr>\n",
       "  </thead>\n",
       "  <tbody>\n",
       "    <tr>\n",
       "      <th>2609</th>\n",
       "      <td>2.90</td>\n",
       "      <td>8</td>\n",
       "      <td>NaN</td>\n",
       "      <td>good_reads:book</td>\n",
       "      <td>https://www.goodreads.com/author/show/7707820....</td>\n",
       "      <td>2013.0</td>\n",
       "      <td>/genres/romance|/genres/realistic-fiction|/gen...</td>\n",
       "      <td>dir27/19546932-how-to-be-a-perfect-girl.html</td>\n",
       "      <td>31</td>\n",
       "      <td>How To Be A Perfect Girl</td>\n",
       "    </tr>\n",
       "    <tr>\n",
       "      <th>3738</th>\n",
       "      <td>2.00</td>\n",
       "      <td>368</td>\n",
       "      <td>0983650322</td>\n",
       "      <td>good_reads:book</td>\n",
       "      <td>https://www.goodreads.com/author/show/9414.Vic...</td>\n",
       "      <td>2011.0</td>\n",
       "      <td>/genres/young-adult|/genres/science-fiction|/g...</td>\n",
       "      <td>dir38/12393909-revealing-eden.html</td>\n",
       "      <td>688</td>\n",
       "      <td>Revealing Eden (Save the Pearls, #1)</td>\n",
       "    </tr>\n",
       "    <tr>\n",
       "      <th>5844</th>\n",
       "      <td>2.97</td>\n",
       "      <td>1399</td>\n",
       "      <td>0395083621</td>\n",
       "      <td>good_reads:book</td>\n",
       "      <td>https://www.goodreads.com/author/show/30691.Ad...</td>\n",
       "      <td>1925.0</td>\n",
       "      <td>/genres/history|/genres/non-fiction|/genres/bi...</td>\n",
       "      <td>dir59/54270.Mein_Kampf.html</td>\n",
       "      <td>12417</td>\n",
       "      <td>Mein Kampf</td>\n",
       "    </tr>\n",
       "    <tr>\n",
       "      <th>5979</th>\n",
       "      <td>2.77</td>\n",
       "      <td>800</td>\n",
       "      <td>0060988649</td>\n",
       "      <td>good_reads:book</td>\n",
       "      <td>https://www.goodreads.com/author/show/7025.Gre...</td>\n",
       "      <td>2001.0</td>\n",
       "      <td>/genres/fantasy|/genres/fiction|/genres/myster...</td>\n",
       "      <td>dir60/24929.Lost.html</td>\n",
       "      <td>11128</td>\n",
       "      <td>Lost</td>\n",
       "    </tr>\n",
       "  </tbody>\n",
       "</table>\n",
       "</div>"
      ],
      "text/plain": [
       "      rating review_count        isbn         booktype                                         author_url    year                                         genre_urls                                           dir rating_count                                  name\n",
       "2609    2.90            8         NaN  good_reads:book  https://www.goodreads.com/author/show/7707820....  2013.0  /genres/romance|/genres/realistic-fiction|/gen...  dir27/19546932-how-to-be-a-perfect-girl.html           31              How To Be A Perfect Girl\n",
       "3738    2.00          368  0983650322  good_reads:book  https://www.goodreads.com/author/show/9414.Vic...  2011.0  /genres/young-adult|/genres/science-fiction|/g...            dir38/12393909-revealing-eden.html          688  Revealing Eden (Save the Pearls, #1)\n",
       "5844    2.97         1399  0395083621  good_reads:book  https://www.goodreads.com/author/show/30691.Ad...  1925.0  /genres/history|/genres/non-fiction|/genres/bi...                   dir59/54270.Mein_Kampf.html        12417                            Mein Kampf\n",
       "5979    2.77          800  0060988649  good_reads:book  https://www.goodreads.com/author/show/7025.Gre...  2001.0  /genres/fantasy|/genres/fiction|/genres/myster...                         dir60/24929.Lost.html        11128                                  Lost"
      ]
     },
     "execution_count": 20,
     "metadata": {},
     "output_type": "execute_result"
    }
   ],
   "source": [
    "df1 = df[df.rating < 3]\n",
    "df1"
   ]
  },
  {
   "cell_type": "code",
   "execution_count": 22,
   "metadata": {
    "collapsed": false
   },
   "outputs": [
    {
     "data": {
      "text/plain": [
       "2609       8\n",
       "3738     368\n",
       "5844    1399\n",
       "5979     800\n",
       "Name: review_count, dtype: object"
      ]
     },
     "execution_count": 22,
     "metadata": {},
     "output_type": "execute_result"
    }
   ],
   "source": [
    "df.review_count[df.rating < 3] # in the brackets is the index"
   ]
  },
  {
   "cell_type": "code",
   "execution_count": 26,
   "metadata": {
    "collapsed": false
   },
   "outputs": [
    {
     "data": {
      "text/html": [
       "<div>\n",
       "<table border=\"1\" class=\"dataframe\">\n",
       "  <thead>\n",
       "    <tr style=\"text-align: right;\">\n",
       "      <th></th>\n",
       "      <th>rating</th>\n",
       "      <th>review_count</th>\n",
       "      <th>isbn</th>\n",
       "      <th>booktype</th>\n",
       "      <th>author_url</th>\n",
       "      <th>year</th>\n",
       "      <th>genre_urls</th>\n",
       "      <th>dir</th>\n",
       "      <th>rating_count</th>\n",
       "      <th>name</th>\n",
       "    </tr>\n",
       "  </thead>\n",
       "  <tbody>\n",
       "    <tr>\n",
       "      <th>2609</th>\n",
       "      <td>2.90</td>\n",
       "      <td>8</td>\n",
       "      <td>NaN</td>\n",
       "      <td>good_reads:book</td>\n",
       "      <td>https://www.goodreads.com/author/show/7707820....</td>\n",
       "      <td>2013.0</td>\n",
       "      <td>/genres/romance|/genres/realistic-fiction|/gen...</td>\n",
       "      <td>dir27/19546932-how-to-be-a-perfect-girl.html</td>\n",
       "      <td>31</td>\n",
       "      <td>How To Be A Perfect Girl</td>\n",
       "    </tr>\n",
       "    <tr>\n",
       "      <th>3738</th>\n",
       "      <td>2.00</td>\n",
       "      <td>368</td>\n",
       "      <td>0983650322</td>\n",
       "      <td>good_reads:book</td>\n",
       "      <td>https://www.goodreads.com/author/show/9414.Vic...</td>\n",
       "      <td>2011.0</td>\n",
       "      <td>/genres/young-adult|/genres/science-fiction|/g...</td>\n",
       "      <td>dir38/12393909-revealing-eden.html</td>\n",
       "      <td>688</td>\n",
       "      <td>Revealing Eden (Save the Pearls, #1)</td>\n",
       "    </tr>\n",
       "    <tr>\n",
       "      <th>5844</th>\n",
       "      <td>2.97</td>\n",
       "      <td>1399</td>\n",
       "      <td>0395083621</td>\n",
       "      <td>good_reads:book</td>\n",
       "      <td>https://www.goodreads.com/author/show/30691.Ad...</td>\n",
       "      <td>1925.0</td>\n",
       "      <td>/genres/history|/genres/non-fiction|/genres/bi...</td>\n",
       "      <td>dir59/54270.Mein_Kampf.html</td>\n",
       "      <td>12417</td>\n",
       "      <td>Mein Kampf</td>\n",
       "    </tr>\n",
       "    <tr>\n",
       "      <th>5979</th>\n",
       "      <td>2.77</td>\n",
       "      <td>800</td>\n",
       "      <td>0060988649</td>\n",
       "      <td>good_reads:book</td>\n",
       "      <td>https://www.goodreads.com/author/show/7025.Gre...</td>\n",
       "      <td>2001.0</td>\n",
       "      <td>/genres/fantasy|/genres/fiction|/genres/myster...</td>\n",
       "      <td>dir60/24929.Lost.html</td>\n",
       "      <td>11128</td>\n",
       "      <td>Lost</td>\n",
       "    </tr>\n",
       "  </tbody>\n",
       "</table>\n",
       "</div>"
      ],
      "text/plain": [
       "      rating review_count        isbn         booktype                                         author_url    year                                         genre_urls                                           dir rating_count                                  name\n",
       "2609    2.90            8         NaN  good_reads:book  https://www.goodreads.com/author/show/7707820....  2013.0  /genres/romance|/genres/realistic-fiction|/gen...  dir27/19546932-how-to-be-a-perfect-girl.html           31              How To Be A Perfect Girl\n",
       "3738    2.00          368  0983650322  good_reads:book  https://www.goodreads.com/author/show/9414.Vic...  2011.0  /genres/young-adult|/genres/science-fiction|/g...            dir38/12393909-revealing-eden.html          688  Revealing Eden (Save the Pearls, #1)\n",
       "5844    2.97         1399  0395083621  good_reads:book  https://www.goodreads.com/author/show/30691.Ad...  1925.0  /genres/history|/genres/non-fiction|/genres/bi...                   dir59/54270.Mein_Kampf.html        12417                            Mein Kampf\n",
       "5979    2.77          800  0060988649  good_reads:book  https://www.goodreads.com/author/show/7025.Gre...  2001.0  /genres/fantasy|/genres/fiction|/genres/myster...                         dir60/24929.Lost.html        11128                                  Lost"
      ]
     },
     "execution_count": 26,
     "metadata": {},
     "output_type": "execute_result"
    }
   ],
   "source": [
    "# subsetting example\n",
    "dfsub1 = df[df.rating < 3]\n",
    "dfsub1.head()"
   ]
  },
  {
   "cell_type": "markdown",
   "metadata": {},
   "source": [
    "Why did that work?"
   ]
  },
  {
   "cell_type": "code",
   "execution_count": 17,
   "metadata": {
    "collapsed": false
   },
   "outputs": [
    {
     "name": "stdout",
     "output_type": "stream",
     "text": [
      "1 0\n"
     ]
    }
   ],
   "source": [
    "print 1*True, 1*False"
   ]
  },
  {
   "cell_type": "markdown",
   "metadata": {},
   "source": [
    "So we ought to be able to do this"
   ]
  },
  {
   "cell_type": "code",
   "execution_count": 18,
   "metadata": {
    "collapsed": false
   },
   "outputs": [
    {
     "data": {
      "text/plain": [
       "0"
      ]
     },
     "execution_count": 18,
     "metadata": {},
     "output_type": "execute_result"
    }
   ],
   "source": [
    "np.sum(df.rating < 3)/df.shape[0]"
   ]
  },
  {
   "cell_type": "markdown",
   "metadata": {},
   "source": [
    "But we get a 0? Why? In Python 2.x division is **integer division** by default. So one can fix by converting the `df.shape[0]` to a float"
   ]
  },
  {
   "cell_type": "code",
   "execution_count": 21,
   "metadata": {
    "collapsed": false
   },
   "outputs": [
    {
     "data": {
      "text/plain": [
       "0.00066666666666666664"
      ]
     },
     "execution_count": 21,
     "metadata": {},
     "output_type": "execute_result"
    }
   ],
   "source": [
    "np.sum(df.rating < 3)/float(df.shape[0])\n",
    "# think as it being a probability of finding ratings less then 3"
   ]
  },
  {
   "cell_type": "markdown",
   "metadata": {},
   "source": [
    "All sample you take are a kind of probability. Remind about that when doing the data science project. But consider the population you took it from."
   ]
  },
  {
   "cell_type": "markdown",
   "metadata": {},
   "source": [
    "Notice that you could just find the average since the `True`s map to 1s."
   ]
  },
  {
   "cell_type": "code",
   "execution_count": 27,
   "metadata": {
    "collapsed": false
   },
   "outputs": [
    {
     "data": {
      "text/plain": [
       "0.00066666666666666664"
      ]
     },
     "execution_count": 27,
     "metadata": {},
     "output_type": "execute_result"
    }
   ],
   "source": [
    "np.mean(df.rating < 3.0)"
   ]
  },
  {
   "cell_type": "markdown",
   "metadata": {},
   "source": [
    "Or directly, in Pandas, which works since `df.rating < 3` is a pandas Series."
   ]
  },
  {
   "cell_type": "code",
   "execution_count": 28,
   "metadata": {
    "collapsed": false
   },
   "outputs": [
    {
     "data": {
      "text/plain": [
       "0.00066666666666666664"
      ]
     },
     "execution_count": 28,
     "metadata": {},
     "output_type": "execute_result"
    }
   ],
   "source": [
    "(df.rating < 3).mean()"
   ]
  },
  {
   "cell_type": "markdown",
   "metadata": {},
   "source": [
    "### Filtering\n",
    "\n",
    "Here are two ways to get a filtered dataframe"
   ]
  },
  {
   "cell_type": "code",
   "execution_count": 29,
   "metadata": {
    "collapsed": false
   },
   "outputs": [
    {
     "data": {
      "text/html": [
       "<div>\n",
       "<table border=\"1\" class=\"dataframe\">\n",
       "  <thead>\n",
       "    <tr style=\"text-align: right;\">\n",
       "      <th></th>\n",
       "      <th>rating</th>\n",
       "      <th>review_count</th>\n",
       "      <th>isbn</th>\n",
       "      <th>booktype</th>\n",
       "      <th>author_url</th>\n",
       "      <th>year</th>\n",
       "      <th>genre_urls</th>\n",
       "      <th>dir</th>\n",
       "      <th>rating_count</th>\n",
       "      <th>name</th>\n",
       "    </tr>\n",
       "  </thead>\n",
       "  <tbody>\n",
       "    <tr>\n",
       "      <th>17</th>\n",
       "      <td>4.58</td>\n",
       "      <td>1314</td>\n",
       "      <td>0345538374</td>\n",
       "      <td>good_reads:book</td>\n",
       "      <td>https://www.goodreads.com/author/show/656983.J...</td>\n",
       "      <td>1973.0</td>\n",
       "      <td>/genres/fantasy|/genres/classics|/genres/scien...</td>\n",
       "      <td>dir01/30.J_R_R_Tolkien_4_Book_Boxed_Set.html</td>\n",
       "      <td>68495</td>\n",
       "      <td>J.R.R. Tolkien 4-Book Boxed Set</td>\n",
       "    </tr>\n",
       "    <tr>\n",
       "      <th>162</th>\n",
       "      <td>4.55</td>\n",
       "      <td>15777</td>\n",
       "      <td>075640407X</td>\n",
       "      <td>good_reads:book</td>\n",
       "      <td>https://www.goodreads.com/author/show/108424.P...</td>\n",
       "      <td>2007.0</td>\n",
       "      <td>/genres/fantasy|/genres/fiction</td>\n",
       "      <td>dir02/186074.The_Name_of_the_Wind.html</td>\n",
       "      <td>210018</td>\n",
       "      <td>The Name of the Wind (The Kingkiller Chronicle...</td>\n",
       "    </tr>\n",
       "    <tr>\n",
       "      <th>222</th>\n",
       "      <td>4.53</td>\n",
       "      <td>15256</td>\n",
       "      <td>055357342X</td>\n",
       "      <td>good_reads:book</td>\n",
       "      <td>https://www.goodreads.com/author/show/346732.G...</td>\n",
       "      <td>2000.0</td>\n",
       "      <td>/genres/fantasy|/genres/fiction|/genres/fantas...</td>\n",
       "      <td>dir03/62291.A_Storm_of_Swords.html</td>\n",
       "      <td>327992</td>\n",
       "      <td>A Storm of Swords (A Song of Ice and Fire, #3)</td>\n",
       "    </tr>\n",
       "    <tr>\n",
       "      <th>242</th>\n",
       "      <td>4.53</td>\n",
       "      <td>5404</td>\n",
       "      <td>0545265355</td>\n",
       "      <td>good_reads:book</td>\n",
       "      <td>https://www.goodreads.com/author/show/153394.S...</td>\n",
       "      <td>2010.0</td>\n",
       "      <td>/genres/young-adult|/genres/fiction|/genres/fa...</td>\n",
       "      <td>dir03/7938275-the-hunger-games-trilogy-boxset....</td>\n",
       "      <td>102330</td>\n",
       "      <td>The Hunger Games Trilogy Boxset (The Hunger Ga...</td>\n",
       "    </tr>\n",
       "    <tr>\n",
       "      <th>249</th>\n",
       "      <td>4.80</td>\n",
       "      <td>644</td>\n",
       "      <td>0740748475</td>\n",
       "      <td>good_reads:book</td>\n",
       "      <td>https://www.goodreads.com/author/show/13778.Bi...</td>\n",
       "      <td>2005.0</td>\n",
       "      <td>/genres/sequential-art|/genres/comics|/genres/...</td>\n",
       "      <td>dir03/24812.The_Complete_Calvin_and_Hobbes.html</td>\n",
       "      <td>22674</td>\n",
       "      <td>The Complete Calvin and Hobbes</td>\n",
       "    </tr>\n",
       "    <tr>\n",
       "      <th>284</th>\n",
       "      <td>4.58</td>\n",
       "      <td>15195</td>\n",
       "      <td>1406321346</td>\n",
       "      <td>good_reads:book</td>\n",
       "      <td>https://www.goodreads.com/author/show/150038.C...</td>\n",
       "      <td>2013.0</td>\n",
       "      <td>/genres/fantasy|/genres/young-adult|/genres/fa...</td>\n",
       "      <td>dir03/18335634-clockwork-princess.html</td>\n",
       "      <td>130161</td>\n",
       "      <td>Clockwork Princess (The Infernal Devices, #3)</td>\n",
       "    </tr>\n",
       "    <tr>\n",
       "      <th>304</th>\n",
       "      <td>4.54</td>\n",
       "      <td>572</td>\n",
       "      <td>0140259449</td>\n",
       "      <td>good_reads:book</td>\n",
       "      <td>https://www.goodreads.com/author/show/1265.Jan...</td>\n",
       "      <td>1933.0</td>\n",
       "      <td>/genres/classics|/genres/fiction|/genres/roman...</td>\n",
       "      <td>dir04/14905.The_Complete_Novels.html</td>\n",
       "      <td>17539</td>\n",
       "      <td>The Complete Novels</td>\n",
       "    </tr>\n",
       "    <tr>\n",
       "      <th>386</th>\n",
       "      <td>4.55</td>\n",
       "      <td>8820</td>\n",
       "      <td>0756404738</td>\n",
       "      <td>good_reads:book</td>\n",
       "      <td>https://www.goodreads.com/author/show/108424.P...</td>\n",
       "      <td>2011.0</td>\n",
       "      <td>/genres/fantasy|/genres/fantasy|/genres/epic-f...</td>\n",
       "      <td>dir04/1215032.The_Wise_Man_s_Fear.html</td>\n",
       "      <td>142499</td>\n",
       "      <td>The Wise Man's Fear (The Kingkiller Chronicle,...</td>\n",
       "    </tr>\n",
       "    <tr>\n",
       "      <th>400</th>\n",
       "      <td>4.53</td>\n",
       "      <td>9292</td>\n",
       "      <td>1423140605</td>\n",
       "      <td>good_reads:book</td>\n",
       "      <td>https://www.goodreads.com/author/show/15872.Ri...</td>\n",
       "      <td>2012.0</td>\n",
       "      <td>/genres/fantasy|/genres/young-adult|/genres/fa...</td>\n",
       "      <td>dir05/12127750-the-mark-of-athena.html</td>\n",
       "      <td>128412</td>\n",
       "      <td>The Mark of Athena (The Heroes of Olympus, #3)</td>\n",
       "    </tr>\n",
       "    <tr>\n",
       "      <th>475</th>\n",
       "      <td>4.57</td>\n",
       "      <td>824</td>\n",
       "      <td>1416997857</td>\n",
       "      <td>good_reads:book</td>\n",
       "      <td>https://www.goodreads.com/author/show/150038.C...</td>\n",
       "      <td>2009.0</td>\n",
       "      <td>/genres/fantasy|/genres/young-adult|/genres/fa...</td>\n",
       "      <td>dir05/6485421-the-mortal-instruments-boxed-set...</td>\n",
       "      <td>39720</td>\n",
       "      <td>The Mortal Instruments Boxed Set (The Mortal I...</td>\n",
       "    </tr>\n",
       "    <tr>\n",
       "      <th>483</th>\n",
       "      <td>4.59</td>\n",
       "      <td>2622</td>\n",
       "      <td>0312362153</td>\n",
       "      <td>good_reads:book</td>\n",
       "      <td>https://www.goodreads.com/author/show/4430.She...</td>\n",
       "      <td>2008.0</td>\n",
       "      <td>/genres/romance|/genres/paranormal-romance|/ge...</td>\n",
       "      <td>dir05/2299110.Acheron.html</td>\n",
       "      <td>35028</td>\n",
       "      <td>Acheron (Dark-Hunter, #8)</td>\n",
       "    </tr>\n",
       "    <tr>\n",
       "      <th>554</th>\n",
       "      <td>4.54</td>\n",
       "      <td>4809</td>\n",
       "      <td>0385341679</td>\n",
       "      <td>good_reads:book</td>\n",
       "      <td>https://www.goodreads.com/author/show/48206.Ka...</td>\n",
       "      <td>2011.0</td>\n",
       "      <td>/genres/fantasy|/genres/urban-fantasy|/genres/...</td>\n",
       "      <td>dir06/7304203-shadowfever.html</td>\n",
       "      <td>52812</td>\n",
       "      <td>Shadowfever (Fever, #5)</td>\n",
       "    </tr>\n",
       "    <tr>\n",
       "      <th>577</th>\n",
       "      <td>4.60</td>\n",
       "      <td>5732</td>\n",
       "      <td>0765326353</td>\n",
       "      <td>good_reads:book</td>\n",
       "      <td>https://www.goodreads.com/author/show/38550.Br...</td>\n",
       "      <td>2010.0</td>\n",
       "      <td>/genres/science-fiction-fantasy|/genres/fantas...</td>\n",
       "      <td>dir06/7235533-the-way-of-kings.html</td>\n",
       "      <td>76551</td>\n",
       "      <td>The Way of Kings (The Stormlight Archive, #1)</td>\n",
       "    </tr>\n",
       "    <tr>\n",
       "      <th>620</th>\n",
       "      <td>4.54</td>\n",
       "      <td>7767</td>\n",
       "      <td>1423146727</td>\n",
       "      <td>good_reads:book</td>\n",
       "      <td>https://www.goodreads.com/author/show/15872.Ri...</td>\n",
       "      <td>2013.0</td>\n",
       "      <td>/genres/fantasy|/genres/young-adult|/genres/fa...</td>\n",
       "      <td>dir07/12127810-the-house-of-hades.html</td>\n",
       "      <td>72082</td>\n",
       "      <td>The House of Hades (The Heroes of Olympus, #4)</td>\n",
       "    </tr>\n",
       "    <tr>\n",
       "      <th>840</th>\n",
       "      <td>4.57</td>\n",
       "      <td>431</td>\n",
       "      <td>1423113497</td>\n",
       "      <td>good_reads:book</td>\n",
       "      <td>https://www.goodreads.com/author/show/15872.Ri...</td>\n",
       "      <td>2008.0</td>\n",
       "      <td>/genres/fantasy|/genres/young-adult|/genres/fa...</td>\n",
       "      <td>dir09/3165162-percy-jackson-and-the-olympians-...</td>\n",
       "      <td>22937</td>\n",
       "      <td>Percy Jackson and the Olympians Boxed Set (Per...</td>\n",
       "    </tr>\n",
       "    <tr>\n",
       "      <th>883</th>\n",
       "      <td>4.58</td>\n",
       "      <td>558</td>\n",
       "      <td>0140286802</td>\n",
       "      <td>good_reads:book</td>\n",
       "      <td>https://www.goodreads.com/author/show/500.Jorg...</td>\n",
       "      <td>1998.0</td>\n",
       "      <td>/genres/short-stories|/genres/literature|/genr...</td>\n",
       "      <td>dir09/17961.Collected_Fictions.html</td>\n",
       "      <td>12596</td>\n",
       "      <td>Collected Fictions</td>\n",
       "    </tr>\n",
       "    <tr>\n",
       "      <th>911</th>\n",
       "      <td>4.85</td>\n",
       "      <td>26</td>\n",
       "      <td>1491732954</td>\n",
       "      <td>good_reads:book</td>\n",
       "      <td>https://www.goodreads.com/author/show/8189303....</td>\n",
       "      <td>2014.0</td>\n",
       "      <td>/genres/fiction</td>\n",
       "      <td>dir10/22242097-honor-and-polygamy.html</td>\n",
       "      <td>97</td>\n",
       "      <td>Honor and Polygamy</td>\n",
       "    </tr>\n",
       "    <tr>\n",
       "      <th>935</th>\n",
       "      <td>4.64</td>\n",
       "      <td>148</td>\n",
       "      <td>1595142711</td>\n",
       "      <td>good_reads:book</td>\n",
       "      <td>https://www.goodreads.com/author/show/137902.R...</td>\n",
       "      <td>2009.0</td>\n",
       "      <td>/genres/paranormal|/genres/vampires|/genres/yo...</td>\n",
       "      <td>dir10/6339989-vampire-academy-collection.html</td>\n",
       "      <td>21743</td>\n",
       "      <td>Vampire Academy Collection (Vampire Academy, #...</td>\n",
       "    </tr>\n",
       "    <tr>\n",
       "      <th>938</th>\n",
       "      <td>4.51</td>\n",
       "      <td>11011</td>\n",
       "      <td>1481426303</td>\n",
       "      <td>good_reads:book</td>\n",
       "      <td>https://www.goodreads.com/author/show/150038.C...</td>\n",
       "      <td>2014.0</td>\n",
       "      <td>/genres/fantasy|/genres/young-adult|/genres/fa...</td>\n",
       "      <td>dir10/8755785-city-of-heavenly-fire.html</td>\n",
       "      <td>69924</td>\n",
       "      <td>City of Heavenly Fire (The Mortal Instruments,...</td>\n",
       "    </tr>\n",
       "    <tr>\n",
       "      <th>953</th>\n",
       "      <td>4.56</td>\n",
       "      <td>27</td>\n",
       "      <td>1477276068</td>\n",
       "      <td>good_reads:book</td>\n",
       "      <td>https://www.goodreads.com/author/show/6621980....</td>\n",
       "      <td>2012.0</td>\n",
       "      <td>NaN</td>\n",
       "      <td>dir10/16243767-crossing-the-seas.html</td>\n",
       "      <td>90</td>\n",
       "      <td>Crossing the Seas</td>\n",
       "    </tr>\n",
       "    <tr>\n",
       "      <th>958</th>\n",
       "      <td>4.57</td>\n",
       "      <td>38199</td>\n",
       "      <td>0545010225</td>\n",
       "      <td>good_reads:book</td>\n",
       "      <td>https://www.goodreads.com/author/show/1077326....</td>\n",
       "      <td>2007.0</td>\n",
       "      <td>/genres/fantasy|/genres/young-adult|/genres/fa...</td>\n",
       "      <td>dir10/136251.Harry_Potter_and_the_Deathly_Hall...</td>\n",
       "      <td>1245866</td>\n",
       "      <td>Harry Potter and the Deathly Hallows (Harry Po...</td>\n",
       "    </tr>\n",
       "    <tr>\n",
       "      <th>1033</th>\n",
       "      <td>4.56</td>\n",
       "      <td>1304</td>\n",
       "      <td>0007119550</td>\n",
       "      <td>good_reads:book</td>\n",
       "      <td>https://www.goodreads.com/author/show/346732.G...</td>\n",
       "      <td>2000.0</td>\n",
       "      <td>/genres/fiction|/genres/fantasy|/genres/epic-f...</td>\n",
       "      <td>dir11/147915.A_Storm_of_Swords.html</td>\n",
       "      <td>41161</td>\n",
       "      <td>A Storm of Swords (A Song of Ice and Fire, #3-2)</td>\n",
       "    </tr>\n",
       "    <tr>\n",
       "      <th>1109</th>\n",
       "      <td>4.70</td>\n",
       "      <td>23</td>\n",
       "      <td>NaN</td>\n",
       "      <td>good_reads:book</td>\n",
       "      <td>https://www.goodreads.com/author/show/7488658....</td>\n",
       "      <td>2013.0</td>\n",
       "      <td>/genres/romance</td>\n",
       "      <td>dir12/19181419-a-bird-without-wings.html</td>\n",
       "      <td>56</td>\n",
       "      <td>A Bird Without Wings</td>\n",
       "    </tr>\n",
       "    <tr>\n",
       "      <th>1127</th>\n",
       "      <td>4.52</td>\n",
       "      <td>644</td>\n",
       "      <td>0141183047</td>\n",
       "      <td>good_reads:book</td>\n",
       "      <td>https://www.goodreads.com/author/show/7816.Fer...</td>\n",
       "      <td>1982.0</td>\n",
       "      <td>/genres/poetry|/genres/fiction|/genres/philoso...</td>\n",
       "      <td>dir12/45974.The_Book_of_Disquiet.html</td>\n",
       "      <td>7463</td>\n",
       "      <td>The Book of Disquiet</td>\n",
       "    </tr>\n",
       "    <tr>\n",
       "      <th>1151</th>\n",
       "      <td>4.64</td>\n",
       "      <td>84</td>\n",
       "      <td>1491877928</td>\n",
       "      <td>good_reads:book</td>\n",
       "      <td>https://www.goodreads.com/author/show/7271860....</td>\n",
       "      <td>2013.0</td>\n",
       "      <td>/genres/war|/genres/historical-fiction|/genres...</td>\n",
       "      <td>dir12/18501652-the-guardian-of-secrets-and-her...</td>\n",
       "      <td>167</td>\n",
       "      <td>The Guardian of Secrets and Her Deathly Pact</td>\n",
       "    </tr>\n",
       "    <tr>\n",
       "      <th>1186</th>\n",
       "      <td>4.51</td>\n",
       "      <td>4853</td>\n",
       "      <td>1619630621</td>\n",
       "      <td>good_reads:book</td>\n",
       "      <td>https://www.goodreads.com/author/show/3433047....</td>\n",
       "      <td>2013.0</td>\n",
       "      <td>/genres/fantasy|/genres/young-adult|/genres/ro...</td>\n",
       "      <td>dir12/17167166-crown-of-midnight.html</td>\n",
       "      <td>34142</td>\n",
       "      <td>Crown of Midnight (Throne of Glass, #2)</td>\n",
       "    </tr>\n",
       "    <tr>\n",
       "      <th>1202</th>\n",
       "      <td>4.59</td>\n",
       "      <td>1260</td>\n",
       "      <td>0310902711</td>\n",
       "      <td>good_reads:book</td>\n",
       "      <td>https://www.goodreads.com/author/show/5158478....</td>\n",
       "      <td>1972.0</td>\n",
       "      <td>/genres/religion|/genres/christian|/genres/non...</td>\n",
       "      <td>dir13/280111.Holy_Bible.html</td>\n",
       "      <td>25584</td>\n",
       "      <td>Holy Bible</td>\n",
       "    </tr>\n",
       "    <tr>\n",
       "      <th>1260</th>\n",
       "      <td>4.60</td>\n",
       "      <td>1943</td>\n",
       "      <td>0842377506</td>\n",
       "      <td>good_reads:book</td>\n",
       "      <td>https://www.goodreads.com/author/show/6492.Fra...</td>\n",
       "      <td>1993.0</td>\n",
       "      <td>/genres/christian-fiction|/genres/historical-f...</td>\n",
       "      <td>dir13/95617.A_Voice_in_the_Wind.html</td>\n",
       "      <td>37923</td>\n",
       "      <td>A Voice in the Wind (Mark of the Lion, #1)</td>\n",
       "    </tr>\n",
       "    <tr>\n",
       "      <th>1268</th>\n",
       "      <td>4.52</td>\n",
       "      <td>215</td>\n",
       "      <td>1557091528</td>\n",
       "      <td>good_reads:book</td>\n",
       "      <td>https://www.goodreads.com/author/show/63859.Ja...</td>\n",
       "      <td>1787.0</td>\n",
       "      <td>/genres/history|/genres/non-fiction|/genres/po...</td>\n",
       "      <td>dir13/89959.The_Constitution_of_the_United_Sta...</td>\n",
       "      <td>12894</td>\n",
       "      <td>The Constitution of the United States of America</td>\n",
       "    </tr>\n",
       "    <tr>\n",
       "      <th>1300</th>\n",
       "      <td>4.61</td>\n",
       "      <td>24</td>\n",
       "      <td>1499227299</td>\n",
       "      <td>good_reads:book</td>\n",
       "      <td>https://www.goodreads.com/author/show/7414345....</td>\n",
       "      <td>2014.0</td>\n",
       "      <td>/genres/paranormal|/genres/vampires|/genres/pa...</td>\n",
       "      <td>dir14/22090082-vampire-princess-rising.html</td>\n",
       "      <td>128</td>\n",
       "      <td>Vampire Princess Rising (The Winters Family Sa...</td>\n",
       "    </tr>\n",
       "    <tr>\n",
       "      <th>...</th>\n",
       "      <td>...</td>\n",
       "      <td>...</td>\n",
       "      <td>...</td>\n",
       "      <td>...</td>\n",
       "      <td>...</td>\n",
       "      <td>...</td>\n",
       "      <td>...</td>\n",
       "      <td>...</td>\n",
       "      <td>...</td>\n",
       "      <td>...</td>\n",
       "    </tr>\n",
       "    <tr>\n",
       "      <th>5532</th>\n",
       "      <td>4.86</td>\n",
       "      <td>4</td>\n",
       "      <td>1477504540</td>\n",
       "      <td>good_reads:book</td>\n",
       "      <td>https://www.goodreads.com/author/show/5989528....</td>\n",
       "      <td>2013.0</td>\n",
       "      <td>NaN</td>\n",
       "      <td>dir56/17695243-call-of-the-lost-ages.html</td>\n",
       "      <td>7</td>\n",
       "      <td>Call Of The Lost Ages</td>\n",
       "    </tr>\n",
       "    <tr>\n",
       "      <th>5549</th>\n",
       "      <td>4.62</td>\n",
       "      <td>13</td>\n",
       "      <td>0882408704</td>\n",
       "      <td>good_reads:book</td>\n",
       "      <td>https://www.goodreads.com/author/show/947.Will...</td>\n",
       "      <td>1899.0</td>\n",
       "      <td>/genres/classics|/genres/fiction|/genres/poetr...</td>\n",
       "      <td>dir56/17134346-the-complete-works-of-william-s...</td>\n",
       "      <td>217</td>\n",
       "      <td>The Complete Works of William Shakespeare</td>\n",
       "    </tr>\n",
       "    <tr>\n",
       "      <th>5557</th>\n",
       "      <td>4.61</td>\n",
       "      <td>14</td>\n",
       "      <td>NaN</td>\n",
       "      <td>good_reads:book</td>\n",
       "      <td>https://www.goodreads.com/author/show/32401.Al...</td>\n",
       "      <td>2006.0</td>\n",
       "      <td>/genres/fantasy|/genres/young-adult</td>\n",
       "      <td>dir56/13488552-the-books-of-pellinor.html</td>\n",
       "      <td>394</td>\n",
       "      <td>The Books of Pellinor</td>\n",
       "    </tr>\n",
       "    <tr>\n",
       "      <th>5563</th>\n",
       "      <td>4.70</td>\n",
       "      <td>30</td>\n",
       "      <td>NaN</td>\n",
       "      <td>good_reads:book</td>\n",
       "      <td>https://www.goodreads.com/author/show/7153266....</td>\n",
       "      <td>2014.0</td>\n",
       "      <td>/genres/childrens</td>\n",
       "      <td>dir56/20445451-children-s-book.html</td>\n",
       "      <td>57</td>\n",
       "      <td>Children's book</td>\n",
       "    </tr>\n",
       "    <tr>\n",
       "      <th>5564</th>\n",
       "      <td>5.00</td>\n",
       "      <td>9</td>\n",
       "      <td>NaN</td>\n",
       "      <td>good_reads:book</td>\n",
       "      <td>https://www.goodreads.com/author/show/7738947....</td>\n",
       "      <td>2014.0</td>\n",
       "      <td>/genres/romance|/genres/new-adult</td>\n",
       "      <td>dir56/21902777-untainted.html</td>\n",
       "      <td>14</td>\n",
       "      <td>Untainted (Photographer Trilogy, #3)</td>\n",
       "    </tr>\n",
       "    <tr>\n",
       "      <th>5584</th>\n",
       "      <td>4.75</td>\n",
       "      <td>3</td>\n",
       "      <td>1481959824</td>\n",
       "      <td>good_reads:book</td>\n",
       "      <td>https://www.goodreads.com/author/show/5100743....</td>\n",
       "      <td>2013.0</td>\n",
       "      <td>NaN</td>\n",
       "      <td>dir56/17606460-why-not-world.html</td>\n",
       "      <td>8</td>\n",
       "      <td>Why Not-World</td>\n",
       "    </tr>\n",
       "    <tr>\n",
       "      <th>5588</th>\n",
       "      <td>4.66</td>\n",
       "      <td>190</td>\n",
       "      <td>NaN</td>\n",
       "      <td>good_reads:book</td>\n",
       "      <td>https://www.goodreads.com/author/show/4942228....</td>\n",
       "      <td>2011.0</td>\n",
       "      <td>/genres/romance|/genres/m-m-romance|/genres/sc...</td>\n",
       "      <td>dir56/11737700-fade.html</td>\n",
       "      <td>996</td>\n",
       "      <td>Fade (In the company of shadows, #4)</td>\n",
       "    </tr>\n",
       "    <tr>\n",
       "      <th>5591</th>\n",
       "      <td>4.58</td>\n",
       "      <td>31</td>\n",
       "      <td>1500118680</td>\n",
       "      <td>good_reads:book</td>\n",
       "      <td>https://www.goodreads.com/author/show/7738947....</td>\n",
       "      <td>2014.0</td>\n",
       "      <td>/genres/romance|/genres/new-adult</td>\n",
       "      <td>dir56/22023804-logan-s-story.html</td>\n",
       "      <td>45</td>\n",
       "      <td>Logan's Story (Sand &amp; Clay, #0.5)</td>\n",
       "    </tr>\n",
       "    <tr>\n",
       "      <th>5601</th>\n",
       "      <td>4.66</td>\n",
       "      <td>312</td>\n",
       "      <td>0842384898</td>\n",
       "      <td>good_reads:book</td>\n",
       "      <td>https://www.goodreads.com/author/show/5158478....</td>\n",
       "      <td>1902.0</td>\n",
       "      <td>/genres/christian|/genres/religion|/genres/non...</td>\n",
       "      <td>dir57/930470.Holy_Bible.html</td>\n",
       "      <td>2666</td>\n",
       "      <td>Holy Bible</td>\n",
       "    </tr>\n",
       "    <tr>\n",
       "      <th>5607</th>\n",
       "      <td>4.66</td>\n",
       "      <td>513</td>\n",
       "      <td>0007444397</td>\n",
       "      <td>good_reads:book</td>\n",
       "      <td>https://www.goodreads.com/author/show/4659154....</td>\n",
       "      <td>2011.0</td>\n",
       "      <td>/genres/non-fiction|/genres/biography</td>\n",
       "      <td>dir57/11792612-dare-to-dream.html</td>\n",
       "      <td>5572</td>\n",
       "      <td>Dare to Dream (100% Official)</td>\n",
       "    </tr>\n",
       "    <tr>\n",
       "      <th>5619</th>\n",
       "      <td>4.52</td>\n",
       "      <td>462</td>\n",
       "      <td>0991190920</td>\n",
       "      <td>good_reads:book</td>\n",
       "      <td>https://www.goodreads.com/author/show/7092218....</td>\n",
       "      <td>2014.0</td>\n",
       "      <td>/genres/fantasy|/genres/paranormal|/genres/fai...</td>\n",
       "      <td>dir57/18188649-escaping-destiny.html</td>\n",
       "      <td>3795</td>\n",
       "      <td>Escaping Destiny (The Fae Chronicles, #3)</td>\n",
       "    </tr>\n",
       "    <tr>\n",
       "      <th>5635</th>\n",
       "      <td>4.54</td>\n",
       "      <td>958</td>\n",
       "      <td>0778315703</td>\n",
       "      <td>good_reads:book</td>\n",
       "      <td>https://www.goodreads.com/author/show/4480131....</td>\n",
       "      <td>2013.0</td>\n",
       "      <td>/genres/erotica|/genres/bdsm|/genres/adult-fic...</td>\n",
       "      <td>dir57/17251444-the-mistress.html</td>\n",
       "      <td>4869</td>\n",
       "      <td>The Mistress (The Original Sinners, #4)</td>\n",
       "    </tr>\n",
       "    <tr>\n",
       "      <th>5642</th>\n",
       "      <td>4.70</td>\n",
       "      <td>158</td>\n",
       "      <td>1417642165</td>\n",
       "      <td>good_reads:book</td>\n",
       "      <td>https://www.goodreads.com/author/show/13778.Bi...</td>\n",
       "      <td>1992.0</td>\n",
       "      <td>/genres/sequential-art|/genres/comics|/genres/...</td>\n",
       "      <td>dir57/70487.Calvin_and_Hobbes.html</td>\n",
       "      <td>9224</td>\n",
       "      <td>Calvin and Hobbes</td>\n",
       "    </tr>\n",
       "    <tr>\n",
       "      <th>5657</th>\n",
       "      <td>4.80</td>\n",
       "      <td>8</td>\n",
       "      <td>1469908530</td>\n",
       "      <td>good_reads:book</td>\n",
       "      <td>https://www.goodreads.com/author/show/4695431....</td>\n",
       "      <td>2012.0</td>\n",
       "      <td>/genres/fantasy</td>\n",
       "      <td>dir57/15734769-myrtle-mae-and-the-mirror-in-th...</td>\n",
       "      <td>10</td>\n",
       "      <td>Myrtle Mae and the Mirror in the Attic (The Ma...</td>\n",
       "    </tr>\n",
       "    <tr>\n",
       "      <th>5665</th>\n",
       "      <td>4.53</td>\n",
       "      <td>61</td>\n",
       "      <td>NaN</td>\n",
       "      <td>good_reads:book</td>\n",
       "      <td>https://www.goodreads.com/author/show/7738947....</td>\n",
       "      <td>2014.0</td>\n",
       "      <td>/genres/romance|/genres/new-adult|/genres/myst...</td>\n",
       "      <td>dir57/20975446-tainted-pictures.html</td>\n",
       "      <td>103</td>\n",
       "      <td>Tainted Pictures (Photographer Trilogy, #2)</td>\n",
       "    </tr>\n",
       "    <tr>\n",
       "      <th>5683</th>\n",
       "      <td>4.56</td>\n",
       "      <td>204</td>\n",
       "      <td>NaN</td>\n",
       "      <td>good_reads:book</td>\n",
       "      <td>https://www.goodreads.com/author/show/3097905....</td>\n",
       "      <td>NaN</td>\n",
       "      <td>/genres/fantasy|/genres/young-adult|/genres/ro...</td>\n",
       "      <td>dir57/12474623-tiger-s-dream.html</td>\n",
       "      <td>895</td>\n",
       "      <td>Tiger's Dream (The Tiger Saga, #5)</td>\n",
       "    </tr>\n",
       "    <tr>\n",
       "      <th>5692</th>\n",
       "      <td>5.00</td>\n",
       "      <td>0</td>\n",
       "      <td>NaN</td>\n",
       "      <td>good_reads:book</td>\n",
       "      <td>https://www.goodreads.com/author/show/5989528....</td>\n",
       "      <td>2012.0</td>\n",
       "      <td>NaN</td>\n",
       "      <td>dir57/14288412-abstraction-in-theory---laws-of...</td>\n",
       "      <td>6</td>\n",
       "      <td>Abstraction In Theory - Laws Of Physical Trans...</td>\n",
       "    </tr>\n",
       "    <tr>\n",
       "      <th>5716</th>\n",
       "      <td>4.67</td>\n",
       "      <td>34</td>\n",
       "      <td>0810117134</td>\n",
       "      <td>good_reads:book</td>\n",
       "      <td>https://www.goodreads.com/author/show/205563.M...</td>\n",
       "      <td>1970.0</td>\n",
       "      <td>/genres/classics|/genres/fiction|/genres/histo...</td>\n",
       "      <td>dir58/1679497.The_Fortress.html</td>\n",
       "      <td>1335</td>\n",
       "      <td>The Fortress</td>\n",
       "    </tr>\n",
       "    <tr>\n",
       "      <th>5717</th>\n",
       "      <td>4.71</td>\n",
       "      <td>4</td>\n",
       "      <td>NaN</td>\n",
       "      <td>good_reads:book</td>\n",
       "      <td>https://www.goodreads.com/author/show/5838022....</td>\n",
       "      <td>2012.0</td>\n",
       "      <td>NaN</td>\n",
       "      <td>dir58/13741511-american-amaranth.html</td>\n",
       "      <td>14</td>\n",
       "      <td>American Amaranth</td>\n",
       "    </tr>\n",
       "    <tr>\n",
       "      <th>5718</th>\n",
       "      <td>4.60</td>\n",
       "      <td>656</td>\n",
       "      <td>1613725132</td>\n",
       "      <td>good_reads:book</td>\n",
       "      <td>https://www.goodreads.com/author/show/1122775....</td>\n",
       "      <td>2012.0</td>\n",
       "      <td>/genres/romance|/genres/m-m-romance|/genres/ro...</td>\n",
       "      <td>dir58/13246997-armed-dangerous.html</td>\n",
       "      <td>5268</td>\n",
       "      <td>Armed &amp; Dangerous (Cut &amp; Run, #5)</td>\n",
       "    </tr>\n",
       "    <tr>\n",
       "      <th>5726</th>\n",
       "      <td>4.55</td>\n",
       "      <td>106</td>\n",
       "      <td>1594170347</td>\n",
       "      <td>good_reads:book</td>\n",
       "      <td>https://www.goodreads.com/author/show/5158478....</td>\n",
       "      <td>1952.0</td>\n",
       "      <td>/genres/religion|/genres/reference|/genres/rel...</td>\n",
       "      <td>dir58/147635.Holy_Bible.html</td>\n",
       "      <td>1750</td>\n",
       "      <td>Holy Bible</td>\n",
       "    </tr>\n",
       "    <tr>\n",
       "      <th>5729</th>\n",
       "      <td>4.83</td>\n",
       "      <td>16</td>\n",
       "      <td>NaN</td>\n",
       "      <td>good_reads:book</td>\n",
       "      <td>https://www.goodreads.com/author/show/7058502....</td>\n",
       "      <td>2014.0</td>\n",
       "      <td>NaN</td>\n",
       "      <td>dir58/22312293-the-keeper.html</td>\n",
       "      <td>29</td>\n",
       "      <td>The Keeper (The Keeper, #5)</td>\n",
       "    </tr>\n",
       "    <tr>\n",
       "      <th>5753</th>\n",
       "      <td>4.61</td>\n",
       "      <td>811</td>\n",
       "      <td>1937551865</td>\n",
       "      <td>good_reads:book</td>\n",
       "      <td>https://www.goodreads.com/author/show/1122775....</td>\n",
       "      <td>2013.0</td>\n",
       "      <td>/genres/romance|/genres/m-m-romance|/genres/ro...</td>\n",
       "      <td>dir58/16159276-touch-geaux.html</td>\n",
       "      <td>4212</td>\n",
       "      <td>Touch &amp; Geaux (Cut &amp; Run, #7)</td>\n",
       "    </tr>\n",
       "    <tr>\n",
       "      <th>5764</th>\n",
       "      <td>4.54</td>\n",
       "      <td>228</td>\n",
       "      <td>NaN</td>\n",
       "      <td>good_reads:book</td>\n",
       "      <td>https://www.goodreads.com/author/show/2112402....</td>\n",
       "      <td>2013.0</td>\n",
       "      <td>/genres/non-fiction|/genres/self-help|/genres/...</td>\n",
       "      <td>dir58/18479831-staying-strong.html</td>\n",
       "      <td>2343</td>\n",
       "      <td>Staying Strong</td>\n",
       "    </tr>\n",
       "    <tr>\n",
       "      <th>5778</th>\n",
       "      <td>4.63</td>\n",
       "      <td>0</td>\n",
       "      <td>NaN</td>\n",
       "      <td>good_reads:book</td>\n",
       "      <td>https://www.goodreads.com/author/show/4808225....</td>\n",
       "      <td>2010.0</td>\n",
       "      <td>NaN</td>\n",
       "      <td>dir58/11187937-un-spoken.html</td>\n",
       "      <td>19</td>\n",
       "      <td>(Un) Spoken</td>\n",
       "    </tr>\n",
       "    <tr>\n",
       "      <th>5806</th>\n",
       "      <td>4.57</td>\n",
       "      <td>121</td>\n",
       "      <td>0679777458</td>\n",
       "      <td>good_reads:book</td>\n",
       "      <td>https://www.goodreads.com/author/show/8361.Dor...</td>\n",
       "      <td>1966.0</td>\n",
       "      <td>/genres/historical-fiction|/genres/fiction|/ge...</td>\n",
       "      <td>dir59/351211.The_Disorderly_Knights.html</td>\n",
       "      <td>2177</td>\n",
       "      <td>The Disorderly Knights (The Lymond Chronicles,...</td>\n",
       "    </tr>\n",
       "    <tr>\n",
       "      <th>5873</th>\n",
       "      <td>4.55</td>\n",
       "      <td>103</td>\n",
       "      <td>144247372X</td>\n",
       "      <td>good_reads:book</td>\n",
       "      <td>https://www.goodreads.com/author/show/2876763....</td>\n",
       "      <td>2012.0</td>\n",
       "      <td>/genres/fantasy|/genres/paranormal|/genres/ang...</td>\n",
       "      <td>dir59/14367071-the-complete-hush-hush-saga.html</td>\n",
       "      <td>2869</td>\n",
       "      <td>The Complete Hush, Hush Saga</td>\n",
       "    </tr>\n",
       "    <tr>\n",
       "      <th>5874</th>\n",
       "      <td>4.78</td>\n",
       "      <td>18</td>\n",
       "      <td>2851944371</td>\n",
       "      <td>good_reads:book</td>\n",
       "      <td>https://www.goodreads.com/author/show/318835.O...</td>\n",
       "      <td>1972.0</td>\n",
       "      <td>/genres/poetry|/genres/fiction|/genres/nobel-p...</td>\n",
       "      <td>dir59/2014000.Le_Monogramme.html</td>\n",
       "      <td>565</td>\n",
       "      <td>Le Monogramme</td>\n",
       "    </tr>\n",
       "    <tr>\n",
       "      <th>5880</th>\n",
       "      <td>4.61</td>\n",
       "      <td>123</td>\n",
       "      <td>NaN</td>\n",
       "      <td>good_reads:book</td>\n",
       "      <td>https://www.goodreads.com/author/show/4942228....</td>\n",
       "      <td>2010.0</td>\n",
       "      <td>/genres/romance|/genres/m-m-romance|/genres/sc...</td>\n",
       "      <td>dir59/10506860-the-interludes.html</td>\n",
       "      <td>1031</td>\n",
       "      <td>The Interludes (In the company of shadows, #3)</td>\n",
       "    </tr>\n",
       "    <tr>\n",
       "      <th>5957</th>\n",
       "      <td>4.72</td>\n",
       "      <td>104</td>\n",
       "      <td>178048044X</td>\n",
       "      <td>good_reads:book</td>\n",
       "      <td>https://www.goodreads.com/author/show/20248.J_...</td>\n",
       "      <td>2010.0</td>\n",
       "      <td>/genres/romance|/genres/paranormal|/genres/vam...</td>\n",
       "      <td>dir60/10780042-j-r-ward-collection.html</td>\n",
       "      <td>1788</td>\n",
       "      <td>J. R. Ward Collection</td>\n",
       "    </tr>\n",
       "  </tbody>\n",
       "</table>\n",
       "<p>224 rows × 10 columns</p>\n",
       "</div>"
      ],
      "text/plain": [
       "      rating review_count        isbn         booktype                                         author_url    year                                         genre_urls                                                dir rating_count                                               name\n",
       "17      4.58         1314  0345538374  good_reads:book  https://www.goodreads.com/author/show/656983.J...  1973.0  /genres/fantasy|/genres/classics|/genres/scien...       dir01/30.J_R_R_Tolkien_4_Book_Boxed_Set.html        68495                    J.R.R. Tolkien 4-Book Boxed Set\n",
       "162     4.55        15777  075640407X  good_reads:book  https://www.goodreads.com/author/show/108424.P...  2007.0                    /genres/fantasy|/genres/fiction             dir02/186074.The_Name_of_the_Wind.html       210018  The Name of the Wind (The Kingkiller Chronicle...\n",
       "222     4.53        15256  055357342X  good_reads:book  https://www.goodreads.com/author/show/346732.G...  2000.0  /genres/fantasy|/genres/fiction|/genres/fantas...                 dir03/62291.A_Storm_of_Swords.html       327992     A Storm of Swords (A Song of Ice and Fire, #3)\n",
       "242     4.53         5404  0545265355  good_reads:book  https://www.goodreads.com/author/show/153394.S...  2010.0  /genres/young-adult|/genres/fiction|/genres/fa...  dir03/7938275-the-hunger-games-trilogy-boxset....       102330  The Hunger Games Trilogy Boxset (The Hunger Ga...\n",
       "249     4.80          644  0740748475  good_reads:book  https://www.goodreads.com/author/show/13778.Bi...  2005.0  /genres/sequential-art|/genres/comics|/genres/...    dir03/24812.The_Complete_Calvin_and_Hobbes.html        22674                     The Complete Calvin and Hobbes\n",
       "284     4.58        15195  1406321346  good_reads:book  https://www.goodreads.com/author/show/150038.C...  2013.0  /genres/fantasy|/genres/young-adult|/genres/fa...             dir03/18335634-clockwork-princess.html       130161      Clockwork Princess (The Infernal Devices, #3)\n",
       "304     4.54          572  0140259449  good_reads:book  https://www.goodreads.com/author/show/1265.Jan...  1933.0  /genres/classics|/genres/fiction|/genres/roman...               dir04/14905.The_Complete_Novels.html        17539                                The Complete Novels\n",
       "386     4.55         8820  0756404738  good_reads:book  https://www.goodreads.com/author/show/108424.P...  2011.0  /genres/fantasy|/genres/fantasy|/genres/epic-f...             dir04/1215032.The_Wise_Man_s_Fear.html       142499  The Wise Man's Fear (The Kingkiller Chronicle,...\n",
       "400     4.53         9292  1423140605  good_reads:book  https://www.goodreads.com/author/show/15872.Ri...  2012.0  /genres/fantasy|/genres/young-adult|/genres/fa...             dir05/12127750-the-mark-of-athena.html       128412     The Mark of Athena (The Heroes of Olympus, #3)\n",
       "475     4.57          824  1416997857  good_reads:book  https://www.goodreads.com/author/show/150038.C...  2009.0  /genres/fantasy|/genres/young-adult|/genres/fa...  dir05/6485421-the-mortal-instruments-boxed-set...        39720  The Mortal Instruments Boxed Set (The Mortal I...\n",
       "483     4.59         2622  0312362153  good_reads:book  https://www.goodreads.com/author/show/4430.She...  2008.0  /genres/romance|/genres/paranormal-romance|/ge...                         dir05/2299110.Acheron.html        35028                          Acheron (Dark-Hunter, #8)\n",
       "554     4.54         4809  0385341679  good_reads:book  https://www.goodreads.com/author/show/48206.Ka...  2011.0  /genres/fantasy|/genres/urban-fantasy|/genres/...                     dir06/7304203-shadowfever.html        52812                            Shadowfever (Fever, #5)\n",
       "577     4.60         5732  0765326353  good_reads:book  https://www.goodreads.com/author/show/38550.Br...  2010.0  /genres/science-fiction-fantasy|/genres/fantas...                dir06/7235533-the-way-of-kings.html        76551      The Way of Kings (The Stormlight Archive, #1)\n",
       "620     4.54         7767  1423146727  good_reads:book  https://www.goodreads.com/author/show/15872.Ri...  2013.0  /genres/fantasy|/genres/young-adult|/genres/fa...             dir07/12127810-the-house-of-hades.html        72082     The House of Hades (The Heroes of Olympus, #4)\n",
       "840     4.57          431  1423113497  good_reads:book  https://www.goodreads.com/author/show/15872.Ri...  2008.0  /genres/fantasy|/genres/young-adult|/genres/fa...  dir09/3165162-percy-jackson-and-the-olympians-...        22937  Percy Jackson and the Olympians Boxed Set (Per...\n",
       "883     4.58          558  0140286802  good_reads:book  https://www.goodreads.com/author/show/500.Jorg...  1998.0  /genres/short-stories|/genres/literature|/genr...                dir09/17961.Collected_Fictions.html        12596                                 Collected Fictions\n",
       "911     4.85           26  1491732954  good_reads:book  https://www.goodreads.com/author/show/8189303....  2014.0                                    /genres/fiction             dir10/22242097-honor-and-polygamy.html           97                                 Honor and Polygamy\n",
       "935     4.64          148  1595142711  good_reads:book  https://www.goodreads.com/author/show/137902.R...  2009.0  /genres/paranormal|/genres/vampires|/genres/yo...      dir10/6339989-vampire-academy-collection.html        21743  Vampire Academy Collection (Vampire Academy, #...\n",
       "938     4.51        11011  1481426303  good_reads:book  https://www.goodreads.com/author/show/150038.C...  2014.0  /genres/fantasy|/genres/young-adult|/genres/fa...           dir10/8755785-city-of-heavenly-fire.html        69924  City of Heavenly Fire (The Mortal Instruments,...\n",
       "953     4.56           27  1477276068  good_reads:book  https://www.goodreads.com/author/show/6621980....  2012.0                                                NaN              dir10/16243767-crossing-the-seas.html           90                                  Crossing the Seas\n",
       "958     4.57        38199  0545010225  good_reads:book  https://www.goodreads.com/author/show/1077326....  2007.0  /genres/fantasy|/genres/young-adult|/genres/fa...  dir10/136251.Harry_Potter_and_the_Deathly_Hall...      1245866  Harry Potter and the Deathly Hallows (Harry Po...\n",
       "1033    4.56         1304  0007119550  good_reads:book  https://www.goodreads.com/author/show/346732.G...  2000.0  /genres/fiction|/genres/fantasy|/genres/epic-f...                dir11/147915.A_Storm_of_Swords.html        41161   A Storm of Swords (A Song of Ice and Fire, #3-2)\n",
       "1109    4.70           23         NaN  good_reads:book  https://www.goodreads.com/author/show/7488658....  2013.0                                    /genres/romance           dir12/19181419-a-bird-without-wings.html           56                               A Bird Without Wings\n",
       "1127    4.52          644  0141183047  good_reads:book  https://www.goodreads.com/author/show/7816.Fer...  1982.0  /genres/poetry|/genres/fiction|/genres/philoso...              dir12/45974.The_Book_of_Disquiet.html         7463                               The Book of Disquiet\n",
       "1151    4.64           84  1491877928  good_reads:book  https://www.goodreads.com/author/show/7271860....  2013.0  /genres/war|/genres/historical-fiction|/genres...  dir12/18501652-the-guardian-of-secrets-and-her...          167       The Guardian of Secrets and Her Deathly Pact\n",
       "1186    4.51         4853  1619630621  good_reads:book  https://www.goodreads.com/author/show/3433047....  2013.0  /genres/fantasy|/genres/young-adult|/genres/ro...              dir12/17167166-crown-of-midnight.html        34142            Crown of Midnight (Throne of Glass, #2)\n",
       "1202    4.59         1260  0310902711  good_reads:book  https://www.goodreads.com/author/show/5158478....  1972.0  /genres/religion|/genres/christian|/genres/non...                       dir13/280111.Holy_Bible.html        25584                                         Holy Bible\n",
       "1260    4.60         1943  0842377506  good_reads:book  https://www.goodreads.com/author/show/6492.Fra...  1993.0  /genres/christian-fiction|/genres/historical-f...               dir13/95617.A_Voice_in_the_Wind.html        37923         A Voice in the Wind (Mark of the Lion, #1)\n",
       "1268    4.52          215  1557091528  good_reads:book  https://www.goodreads.com/author/show/63859.Ja...  1787.0  /genres/history|/genres/non-fiction|/genres/po...  dir13/89959.The_Constitution_of_the_United_Sta...        12894   The Constitution of the United States of America\n",
       "1300    4.61           24  1499227299  good_reads:book  https://www.goodreads.com/author/show/7414345....  2014.0  /genres/paranormal|/genres/vampires|/genres/pa...        dir14/22090082-vampire-princess-rising.html          128  Vampire Princess Rising (The Winters Family Sa...\n",
       "...      ...          ...         ...              ...                                                ...     ...                                                ...                                                ...          ...                                                ...\n",
       "5532    4.86            4  1477504540  good_reads:book  https://www.goodreads.com/author/show/5989528....  2013.0                                                NaN          dir56/17695243-call-of-the-lost-ages.html            7                              Call Of The Lost Ages\n",
       "5549    4.62           13  0882408704  good_reads:book  https://www.goodreads.com/author/show/947.Will...  1899.0  /genres/classics|/genres/fiction|/genres/poetr...  dir56/17134346-the-complete-works-of-william-s...          217          The Complete Works of William Shakespeare\n",
       "5557    4.61           14         NaN  good_reads:book  https://www.goodreads.com/author/show/32401.Al...  2006.0                /genres/fantasy|/genres/young-adult          dir56/13488552-the-books-of-pellinor.html          394                              The Books of Pellinor\n",
       "5563    4.70           30         NaN  good_reads:book  https://www.goodreads.com/author/show/7153266....  2014.0                                  /genres/childrens                dir56/20445451-children-s-book.html           57                                    Children's book\n",
       "5564    5.00            9         NaN  good_reads:book  https://www.goodreads.com/author/show/7738947....  2014.0                  /genres/romance|/genres/new-adult                      dir56/21902777-untainted.html           14               Untainted (Photographer Trilogy, #3)\n",
       "5584    4.75            3  1481959824  good_reads:book  https://www.goodreads.com/author/show/5100743....  2013.0                                                NaN                  dir56/17606460-why-not-world.html            8                                      Why Not-World\n",
       "5588    4.66          190         NaN  good_reads:book  https://www.goodreads.com/author/show/4942228....  2011.0  /genres/romance|/genres/m-m-romance|/genres/sc...                           dir56/11737700-fade.html          996               Fade (In the company of shadows, #4)\n",
       "5591    4.58           31  1500118680  good_reads:book  https://www.goodreads.com/author/show/7738947....  2014.0                  /genres/romance|/genres/new-adult                  dir56/22023804-logan-s-story.html           45                  Logan's Story (Sand & Clay, #0.5)\n",
       "5601    4.66          312  0842384898  good_reads:book  https://www.goodreads.com/author/show/5158478....  1902.0  /genres/christian|/genres/religion|/genres/non...                       dir57/930470.Holy_Bible.html         2666                                         Holy Bible\n",
       "5607    4.66          513  0007444397  good_reads:book  https://www.goodreads.com/author/show/4659154....  2011.0              /genres/non-fiction|/genres/biography                  dir57/11792612-dare-to-dream.html         5572                      Dare to Dream (100% Official)\n",
       "5619    4.52          462  0991190920  good_reads:book  https://www.goodreads.com/author/show/7092218....  2014.0  /genres/fantasy|/genres/paranormal|/genres/fai...               dir57/18188649-escaping-destiny.html         3795          Escaping Destiny (The Fae Chronicles, #3)\n",
       "5635    4.54          958  0778315703  good_reads:book  https://www.goodreads.com/author/show/4480131....  2013.0  /genres/erotica|/genres/bdsm|/genres/adult-fic...                   dir57/17251444-the-mistress.html         4869            The Mistress (The Original Sinners, #4)\n",
       "5642    4.70          158  1417642165  good_reads:book  https://www.goodreads.com/author/show/13778.Bi...  1992.0  /genres/sequential-art|/genres/comics|/genres/...                 dir57/70487.Calvin_and_Hobbes.html         9224                                  Calvin and Hobbes\n",
       "5657    4.80            8  1469908530  good_reads:book  https://www.goodreads.com/author/show/4695431....  2012.0                                    /genres/fantasy  dir57/15734769-myrtle-mae-and-the-mirror-in-th...           10  Myrtle Mae and the Mirror in the Attic (The Ma...\n",
       "5665    4.53           61         NaN  good_reads:book  https://www.goodreads.com/author/show/7738947....  2014.0  /genres/romance|/genres/new-adult|/genres/myst...               dir57/20975446-tainted-pictures.html          103        Tainted Pictures (Photographer Trilogy, #2)\n",
       "5683    4.56          204         NaN  good_reads:book  https://www.goodreads.com/author/show/3097905....     NaN  /genres/fantasy|/genres/young-adult|/genres/ro...                  dir57/12474623-tiger-s-dream.html          895                 Tiger's Dream (The Tiger Saga, #5)\n",
       "5692    5.00            0         NaN  good_reads:book  https://www.goodreads.com/author/show/5989528....  2012.0                                                NaN  dir57/14288412-abstraction-in-theory---laws-of...            6  Abstraction In Theory - Laws Of Physical Trans...\n",
       "5716    4.67           34  0810117134  good_reads:book  https://www.goodreads.com/author/show/205563.M...  1970.0  /genres/classics|/genres/fiction|/genres/histo...                    dir58/1679497.The_Fortress.html         1335                                       The Fortress\n",
       "5717    4.71            4         NaN  good_reads:book  https://www.goodreads.com/author/show/5838022....  2012.0                                                NaN              dir58/13741511-american-amaranth.html           14                                  American Amaranth\n",
       "5718    4.60          656  1613725132  good_reads:book  https://www.goodreads.com/author/show/1122775....  2012.0  /genres/romance|/genres/m-m-romance|/genres/ro...                dir58/13246997-armed-dangerous.html         5268                  Armed & Dangerous (Cut & Run, #5)\n",
       "5726    4.55          106  1594170347  good_reads:book  https://www.goodreads.com/author/show/5158478....  1952.0  /genres/religion|/genres/reference|/genres/rel...                       dir58/147635.Holy_Bible.html         1750                                         Holy Bible\n",
       "5729    4.83           16         NaN  good_reads:book  https://www.goodreads.com/author/show/7058502....  2014.0                                                NaN                     dir58/22312293-the-keeper.html           29                        The Keeper (The Keeper, #5)\n",
       "5753    4.61          811  1937551865  good_reads:book  https://www.goodreads.com/author/show/1122775....  2013.0  /genres/romance|/genres/m-m-romance|/genres/ro...                    dir58/16159276-touch-geaux.html         4212                      Touch & Geaux (Cut & Run, #7)\n",
       "5764    4.54          228         NaN  good_reads:book  https://www.goodreads.com/author/show/2112402....  2013.0  /genres/non-fiction|/genres/self-help|/genres/...                 dir58/18479831-staying-strong.html         2343                                     Staying Strong\n",
       "5778    4.63            0         NaN  good_reads:book  https://www.goodreads.com/author/show/4808225....  2010.0                                                NaN                      dir58/11187937-un-spoken.html           19                                        (Un) Spoken\n",
       "5806    4.57          121  0679777458  good_reads:book  https://www.goodreads.com/author/show/8361.Dor...  1966.0  /genres/historical-fiction|/genres/fiction|/ge...           dir59/351211.The_Disorderly_Knights.html         2177  The Disorderly Knights (The Lymond Chronicles,...\n",
       "5873    4.55          103  144247372X  good_reads:book  https://www.goodreads.com/author/show/2876763....  2012.0  /genres/fantasy|/genres/paranormal|/genres/ang...    dir59/14367071-the-complete-hush-hush-saga.html         2869                       The Complete Hush, Hush Saga\n",
       "5874    4.78           18  2851944371  good_reads:book  https://www.goodreads.com/author/show/318835.O...  1972.0  /genres/poetry|/genres/fiction|/genres/nobel-p...                   dir59/2014000.Le_Monogramme.html          565                                      Le Monogramme\n",
       "5880    4.61          123         NaN  good_reads:book  https://www.goodreads.com/author/show/4942228....  2010.0  /genres/romance|/genres/m-m-romance|/genres/sc...                 dir59/10506860-the-interludes.html         1031     The Interludes (In the company of shadows, #3)\n",
       "5957    4.72          104  178048044X  good_reads:book  https://www.goodreads.com/author/show/20248.J_...  2010.0  /genres/romance|/genres/paranormal|/genres/vam...            dir60/10780042-j-r-ward-collection.html         1788                              J. R. Ward Collection\n",
       "\n",
       "[224 rows x 10 columns]"
      ]
     },
     "execution_count": 29,
     "metadata": {},
     "output_type": "execute_result"
    }
   ],
   "source": [
    "df.query(\"rating > 4.5\")"
   ]
  },
  {
   "cell_type": "markdown",
   "metadata": {},
   "source": [
    "Here we create a mask and use it to \"index\" into the dataframe to get the rows we want."
   ]
  },
  {
   "cell_type": "code",
   "execution_count": 30,
   "metadata": {
    "collapsed": false
   },
   "outputs": [
    {
     "data": {
      "text/html": [
       "<div>\n",
       "<table border=\"1\" class=\"dataframe\">\n",
       "  <thead>\n",
       "    <tr style=\"text-align: right;\">\n",
       "      <th></th>\n",
       "      <th>rating</th>\n",
       "      <th>review_count</th>\n",
       "      <th>isbn</th>\n",
       "      <th>booktype</th>\n",
       "      <th>author_url</th>\n",
       "      <th>year</th>\n",
       "      <th>genre_urls</th>\n",
       "      <th>dir</th>\n",
       "      <th>rating_count</th>\n",
       "      <th>name</th>\n",
       "    </tr>\n",
       "  </thead>\n",
       "  <tbody>\n",
       "    <tr>\n",
       "      <th>47</th>\n",
       "      <td>3.68</td>\n",
       "      <td>5785</td>\n",
       "      <td>0143039954</td>\n",
       "      <td>good_reads:book</td>\n",
       "      <td>https://www.goodreads.com/author/show/903.Homer</td>\n",
       "      <td>-800.0</td>\n",
       "      <td>/genres/classics|/genres/fiction|/genres/poetr...</td>\n",
       "      <td>dir01/1381.The_Odyssey.html</td>\n",
       "      <td>560248</td>\n",
       "      <td>The Odyssey</td>\n",
       "    </tr>\n",
       "    <tr>\n",
       "      <th>246</th>\n",
       "      <td>4.01</td>\n",
       "      <td>365</td>\n",
       "      <td>0147712556</td>\n",
       "      <td>good_reads:book</td>\n",
       "      <td>https://www.goodreads.com/author/show/903.Homer</td>\n",
       "      <td>-800.0</td>\n",
       "      <td>/genres/classics|/genres/fantasy|/genres/mytho...</td>\n",
       "      <td>dir03/1375.The_Iliad_The_Odyssey.html</td>\n",
       "      <td>35123</td>\n",
       "      <td>The Iliad/The Odyssey</td>\n",
       "    </tr>\n",
       "    <tr>\n",
       "      <th>455</th>\n",
       "      <td>3.85</td>\n",
       "      <td>1499</td>\n",
       "      <td>0140449140</td>\n",
       "      <td>good_reads:book</td>\n",
       "      <td>https://www.goodreads.com/author/show/879.Plato</td>\n",
       "      <td>-380.0</td>\n",
       "      <td>/genres/philosophy|/genres/classics|/genres/no...</td>\n",
       "      <td>dir05/30289.The_Republic.html</td>\n",
       "      <td>82022</td>\n",
       "      <td>The Republic</td>\n",
       "    </tr>\n",
       "    <tr>\n",
       "      <th>596</th>\n",
       "      <td>3.77</td>\n",
       "      <td>1240</td>\n",
       "      <td>0679729526</td>\n",
       "      <td>good_reads:book</td>\n",
       "      <td>https://www.goodreads.com/author/show/919.Virgil</td>\n",
       "      <td>-29.0</td>\n",
       "      <td>/genres/classics|/genres/poetry|/genres/fictio...</td>\n",
       "      <td>dir06/12914.The_Aeneid.html</td>\n",
       "      <td>60308</td>\n",
       "      <td>The Aeneid</td>\n",
       "    </tr>\n",
       "    <tr>\n",
       "      <th>629</th>\n",
       "      <td>3.64</td>\n",
       "      <td>1231</td>\n",
       "      <td>1580495931</td>\n",
       "      <td>good_reads:book</td>\n",
       "      <td>https://www.goodreads.com/author/show/1002.Sop...</td>\n",
       "      <td>-429.0</td>\n",
       "      <td>/genres/classics|/genres/plays|/genres/drama|/...</td>\n",
       "      <td>dir07/1554.Oedipus_Rex.html</td>\n",
       "      <td>93192</td>\n",
       "      <td>Oedipus Rex</td>\n",
       "    </tr>\n",
       "    <tr>\n",
       "      <th>674</th>\n",
       "      <td>3.92</td>\n",
       "      <td>3559</td>\n",
       "      <td>1590302257</td>\n",
       "      <td>good_reads:book</td>\n",
       "      <td>https://www.goodreads.com/author/show/1771.Sun...</td>\n",
       "      <td>-512.0</td>\n",
       "      <td>/genres/non-fiction|/genres/politics|/genres/c...</td>\n",
       "      <td>dir07/10534.The_Art_of_War.html</td>\n",
       "      <td>114619</td>\n",
       "      <td>The Art of War</td>\n",
       "    </tr>\n",
       "    <tr>\n",
       "      <th>746</th>\n",
       "      <td>4.06</td>\n",
       "      <td>1087</td>\n",
       "      <td>0140449183</td>\n",
       "      <td>good_reads:book</td>\n",
       "      <td>https://www.goodreads.com/author/show/5158478....</td>\n",
       "      <td>-500.0</td>\n",
       "      <td>/genres/classics|/genres/spirituality|/genres/...</td>\n",
       "      <td>dir08/99944.The_Bhagavad_Gita.html</td>\n",
       "      <td>31634</td>\n",
       "      <td>The Bhagavad Gita</td>\n",
       "    </tr>\n",
       "    <tr>\n",
       "      <th>777</th>\n",
       "      <td>3.52</td>\n",
       "      <td>1038</td>\n",
       "      <td>1580493882</td>\n",
       "      <td>good_reads:book</td>\n",
       "      <td>https://www.goodreads.com/author/show/1002.Sop...</td>\n",
       "      <td>-442.0</td>\n",
       "      <td>/genres/drama|/genres/fiction|/genres/classics...</td>\n",
       "      <td>dir08/7728.Antigone.html</td>\n",
       "      <td>49084</td>\n",
       "      <td>Antigone</td>\n",
       "    </tr>\n",
       "    <tr>\n",
       "      <th>1233</th>\n",
       "      <td>3.94</td>\n",
       "      <td>704</td>\n",
       "      <td>015602764X</td>\n",
       "      <td>good_reads:book</td>\n",
       "      <td>https://www.goodreads.com/author/show/1002.Sop...</td>\n",
       "      <td>-400.0</td>\n",
       "      <td>/genres/classics|/genres/plays|/genres/drama|/...</td>\n",
       "      <td>dir13/1540.The_Oedipus_Cycle.html</td>\n",
       "      <td>36008</td>\n",
       "      <td>The Oedipus Cycle</td>\n",
       "    </tr>\n",
       "    <tr>\n",
       "      <th>1397</th>\n",
       "      <td>4.03</td>\n",
       "      <td>890</td>\n",
       "      <td>0192840509</td>\n",
       "      <td>good_reads:book</td>\n",
       "      <td>https://www.goodreads.com/author/show/12452.Aesop</td>\n",
       "      <td>-560.0</td>\n",
       "      <td>/genres/classics|/genres/childrens|/genres/lit...</td>\n",
       "      <td>dir14/21348.Aesop_s_Fables.html</td>\n",
       "      <td>71259</td>\n",
       "      <td>Aesop's Fables</td>\n",
       "    </tr>\n",
       "    <tr>\n",
       "      <th>1398</th>\n",
       "      <td>3.60</td>\n",
       "      <td>1644</td>\n",
       "      <td>0141026286</td>\n",
       "      <td>good_reads:book</td>\n",
       "      <td>https://www.goodreads.com/author/show/5158478....</td>\n",
       "      <td>-1500.0</td>\n",
       "      <td>/genres/religion|/genres/literature|/genres/an...</td>\n",
       "      <td>dir14/19351.The_Epic_of_Gilgamesh.html</td>\n",
       "      <td>42026</td>\n",
       "      <td>The Epic of Gilgamesh</td>\n",
       "    </tr>\n",
       "    <tr>\n",
       "      <th>1428</th>\n",
       "      <td>3.80</td>\n",
       "      <td>539</td>\n",
       "      <td>0486275485</td>\n",
       "      <td>good_reads:book</td>\n",
       "      <td>https://www.goodreads.com/author/show/973.Euri...</td>\n",
       "      <td>-431.0</td>\n",
       "      <td>/genres/classics|/genres/plays|/genres/drama|/...</td>\n",
       "      <td>dir15/752900.Medea.html</td>\n",
       "      <td>29858</td>\n",
       "      <td>Medea</td>\n",
       "    </tr>\n",
       "    <tr>\n",
       "      <th>1815</th>\n",
       "      <td>3.96</td>\n",
       "      <td>493</td>\n",
       "      <td>0140443339</td>\n",
       "      <td>good_reads:book</td>\n",
       "      <td>https://www.goodreads.com/author/show/990.Aesc...</td>\n",
       "      <td>-458.0</td>\n",
       "      <td>/genres/classics|/genres/plays|/genres/drama|/...</td>\n",
       "      <td>dir19/1519.The_Oresteia.html</td>\n",
       "      <td>18729</td>\n",
       "      <td>The Oresteia</td>\n",
       "    </tr>\n",
       "    <tr>\n",
       "      <th>1882</th>\n",
       "      <td>4.02</td>\n",
       "      <td>377</td>\n",
       "      <td>0872205541</td>\n",
       "      <td>good_reads:book</td>\n",
       "      <td>https://www.goodreads.com/author/show/879.Plato</td>\n",
       "      <td>-400.0</td>\n",
       "      <td>/genres/philosophy|/genres/classics|/genres/no...</td>\n",
       "      <td>dir19/22632.The_Trial_and_Death_of_Socrates.html</td>\n",
       "      <td>18712</td>\n",
       "      <td>The Trial and Death of Socrates</td>\n",
       "    </tr>\n",
       "    <tr>\n",
       "      <th>2078</th>\n",
       "      <td>3.84</td>\n",
       "      <td>399</td>\n",
       "      <td>0140440399</td>\n",
       "      <td>good_reads:book</td>\n",
       "      <td>https://www.goodreads.com/author/show/957.Thuc...</td>\n",
       "      <td>-411.0</td>\n",
       "      <td>/genres/history|/genres/classics|/genres/non-f...</td>\n",
       "      <td>dir21/261243.The_History_of_the_Peloponnesian_...</td>\n",
       "      <td>17212</td>\n",
       "      <td>The History of the Peloponnesian War</td>\n",
       "    </tr>\n",
       "    <tr>\n",
       "      <th>2527</th>\n",
       "      <td>3.94</td>\n",
       "      <td>506</td>\n",
       "      <td>0140449086</td>\n",
       "      <td>good_reads:book</td>\n",
       "      <td>https://www.goodreads.com/author/show/901.Hero...</td>\n",
       "      <td>-440.0</td>\n",
       "      <td>/genres/history|/genres/classics|/genres/non-f...</td>\n",
       "      <td>dir26/1362.The_Histories.html</td>\n",
       "      <td>20570</td>\n",
       "      <td>The Histories</td>\n",
       "    </tr>\n",
       "    <tr>\n",
       "      <th>3133</th>\n",
       "      <td>4.30</td>\n",
       "      <td>131</td>\n",
       "      <td>0872203492</td>\n",
       "      <td>good_reads:book</td>\n",
       "      <td>https://www.goodreads.com/author/show/879.Plato</td>\n",
       "      <td>-400.0</td>\n",
       "      <td>/genres/philosophy|/genres/classics|/genres/no...</td>\n",
       "      <td>dir32/9462.Complete_Works.html</td>\n",
       "      <td>7454</td>\n",
       "      <td>Complete Works</td>\n",
       "    </tr>\n",
       "    <tr>\n",
       "      <th>3274</th>\n",
       "      <td>3.88</td>\n",
       "      <td>411</td>\n",
       "      <td>0140449493</td>\n",
       "      <td>good_reads:book</td>\n",
       "      <td>https://www.goodreads.com/author/show/2192.Ari...</td>\n",
       "      <td>-350.0</td>\n",
       "      <td>/genres/philosophy|/genres/classics|/genres/no...</td>\n",
       "      <td>dir33/19068.The_Nicomachean_Ethics.html</td>\n",
       "      <td>16534</td>\n",
       "      <td>The Nicomachean Ethics</td>\n",
       "    </tr>\n",
       "    <tr>\n",
       "      <th>3757</th>\n",
       "      <td>3.82</td>\n",
       "      <td>364</td>\n",
       "      <td>0872206033</td>\n",
       "      <td>good_reads:book</td>\n",
       "      <td>https://www.goodreads.com/author/show/1011.Ari...</td>\n",
       "      <td>-411.0</td>\n",
       "      <td>/genres/plays|/genres/classics|/genres/drama|/...</td>\n",
       "      <td>dir38/1591.Lysistrata.html</td>\n",
       "      <td>18070</td>\n",
       "      <td>Lysistrata</td>\n",
       "    </tr>\n",
       "    <tr>\n",
       "      <th>4402</th>\n",
       "      <td>3.99</td>\n",
       "      <td>516</td>\n",
       "      <td>0140449272</td>\n",
       "      <td>good_reads:book</td>\n",
       "      <td>https://www.goodreads.com/author/show/879.Plato</td>\n",
       "      <td>-370.0</td>\n",
       "      <td>/genres/non-fiction|/genres/classics|/genres/p...</td>\n",
       "      <td>dir45/81779.The_Symposium.html</td>\n",
       "      <td>18457</td>\n",
       "      <td>The Symposium</td>\n",
       "    </tr>\n",
       "    <tr>\n",
       "      <th>4475</th>\n",
       "      <td>4.11</td>\n",
       "      <td>281</td>\n",
       "      <td>0865163480</td>\n",
       "      <td>good_reads:book</td>\n",
       "      <td>https://www.goodreads.com/author/show/879.Plato</td>\n",
       "      <td>-390.0</td>\n",
       "      <td>/genres/philosophy|/genres/classics|/genres/no...</td>\n",
       "      <td>dir45/73945.Apology.html</td>\n",
       "      <td>11478</td>\n",
       "      <td>Apology</td>\n",
       "    </tr>\n",
       "    <tr>\n",
       "      <th>5367</th>\n",
       "      <td>4.07</td>\n",
       "      <td>133</td>\n",
       "      <td>0872206335</td>\n",
       "      <td>good_reads:book</td>\n",
       "      <td>https://www.goodreads.com/author/show/879.Plato</td>\n",
       "      <td>-360.0</td>\n",
       "      <td>/genres/philosophy|/genres/classics|/genres/no...</td>\n",
       "      <td>dir54/30292.Five_Dialogues.html</td>\n",
       "      <td>9964</td>\n",
       "      <td>Five Dialogues</td>\n",
       "    </tr>\n",
       "  </tbody>\n",
       "</table>\n",
       "</div>"
      ],
      "text/plain": [
       "      rating review_count        isbn         booktype                                         author_url    year                                         genre_urls                                                dir rating_count                                  name\n",
       "47      3.68         5785  0143039954  good_reads:book    https://www.goodreads.com/author/show/903.Homer  -800.0  /genres/classics|/genres/fiction|/genres/poetr...                        dir01/1381.The_Odyssey.html       560248                           The Odyssey\n",
       "246     4.01          365  0147712556  good_reads:book    https://www.goodreads.com/author/show/903.Homer  -800.0  /genres/classics|/genres/fantasy|/genres/mytho...              dir03/1375.The_Iliad_The_Odyssey.html        35123                 The Iliad/The Odyssey\n",
       "455     3.85         1499  0140449140  good_reads:book    https://www.goodreads.com/author/show/879.Plato  -380.0  /genres/philosophy|/genres/classics|/genres/no...                      dir05/30289.The_Republic.html        82022                          The Republic\n",
       "596     3.77         1240  0679729526  good_reads:book   https://www.goodreads.com/author/show/919.Virgil   -29.0  /genres/classics|/genres/poetry|/genres/fictio...                        dir06/12914.The_Aeneid.html        60308                            The Aeneid\n",
       "629     3.64         1231  1580495931  good_reads:book  https://www.goodreads.com/author/show/1002.Sop...  -429.0  /genres/classics|/genres/plays|/genres/drama|/...                        dir07/1554.Oedipus_Rex.html        93192                           Oedipus Rex\n",
       "674     3.92         3559  1590302257  good_reads:book  https://www.goodreads.com/author/show/1771.Sun...  -512.0  /genres/non-fiction|/genres/politics|/genres/c...                    dir07/10534.The_Art_of_War.html       114619                        The Art of War\n",
       "746     4.06         1087  0140449183  good_reads:book  https://www.goodreads.com/author/show/5158478....  -500.0  /genres/classics|/genres/spirituality|/genres/...                 dir08/99944.The_Bhagavad_Gita.html        31634                     The Bhagavad Gita\n",
       "777     3.52         1038  1580493882  good_reads:book  https://www.goodreads.com/author/show/1002.Sop...  -442.0  /genres/drama|/genres/fiction|/genres/classics...                           dir08/7728.Antigone.html        49084                              Antigone\n",
       "1233    3.94          704  015602764X  good_reads:book  https://www.goodreads.com/author/show/1002.Sop...  -400.0  /genres/classics|/genres/plays|/genres/drama|/...                  dir13/1540.The_Oedipus_Cycle.html        36008                     The Oedipus Cycle\n",
       "1397    4.03          890  0192840509  good_reads:book  https://www.goodreads.com/author/show/12452.Aesop  -560.0  /genres/classics|/genres/childrens|/genres/lit...                    dir14/21348.Aesop_s_Fables.html        71259                        Aesop's Fables\n",
       "1398    3.60         1644  0141026286  good_reads:book  https://www.goodreads.com/author/show/5158478.... -1500.0  /genres/religion|/genres/literature|/genres/an...             dir14/19351.The_Epic_of_Gilgamesh.html        42026                 The Epic of Gilgamesh\n",
       "1428    3.80          539  0486275485  good_reads:book  https://www.goodreads.com/author/show/973.Euri...  -431.0  /genres/classics|/genres/plays|/genres/drama|/...                            dir15/752900.Medea.html        29858                                 Medea\n",
       "1815    3.96          493  0140443339  good_reads:book  https://www.goodreads.com/author/show/990.Aesc...  -458.0  /genres/classics|/genres/plays|/genres/drama|/...                       dir19/1519.The_Oresteia.html        18729                          The Oresteia\n",
       "1882    4.02          377  0872205541  good_reads:book    https://www.goodreads.com/author/show/879.Plato  -400.0  /genres/philosophy|/genres/classics|/genres/no...   dir19/22632.The_Trial_and_Death_of_Socrates.html        18712       The Trial and Death of Socrates\n",
       "2078    3.84          399  0140440399  good_reads:book  https://www.goodreads.com/author/show/957.Thuc...  -411.0  /genres/history|/genres/classics|/genres/non-f...  dir21/261243.The_History_of_the_Peloponnesian_...        17212  The History of the Peloponnesian War\n",
       "2527    3.94          506  0140449086  good_reads:book  https://www.goodreads.com/author/show/901.Hero...  -440.0  /genres/history|/genres/classics|/genres/non-f...                      dir26/1362.The_Histories.html        20570                         The Histories\n",
       "3133    4.30          131  0872203492  good_reads:book    https://www.goodreads.com/author/show/879.Plato  -400.0  /genres/philosophy|/genres/classics|/genres/no...                     dir32/9462.Complete_Works.html         7454                        Complete Works\n",
       "3274    3.88          411  0140449493  good_reads:book  https://www.goodreads.com/author/show/2192.Ari...  -350.0  /genres/philosophy|/genres/classics|/genres/no...            dir33/19068.The_Nicomachean_Ethics.html        16534                The Nicomachean Ethics\n",
       "3757    3.82          364  0872206033  good_reads:book  https://www.goodreads.com/author/show/1011.Ari...  -411.0  /genres/plays|/genres/classics|/genres/drama|/...                         dir38/1591.Lysistrata.html        18070                            Lysistrata\n",
       "4402    3.99          516  0140449272  good_reads:book    https://www.goodreads.com/author/show/879.Plato  -370.0  /genres/non-fiction|/genres/classics|/genres/p...                     dir45/81779.The_Symposium.html        18457                         The Symposium\n",
       "4475    4.11          281  0865163480  good_reads:book    https://www.goodreads.com/author/show/879.Plato  -390.0  /genres/philosophy|/genres/classics|/genres/no...                           dir45/73945.Apology.html        11478                               Apology\n",
       "5367    4.07          133  0872206335  good_reads:book    https://www.goodreads.com/author/show/879.Plato  -360.0  /genres/philosophy|/genres/classics|/genres/no...                    dir54/30292.Five_Dialogues.html         9964                        Five Dialogues"
      ]
     },
     "execution_count": 30,
     "metadata": {},
     "output_type": "execute_result"
    }
   ],
   "source": [
    "df[df.year < 0]"
   ]
  },
  {
   "cell_type": "markdown",
   "metadata": {},
   "source": [
    "If you want to combine these conditions, use the second form and put '()' brackets around each condition. The query uses a boolean AND. Each condition ceates a mask of trues and falses."
   ]
  },
  {
   "cell_type": "code",
   "execution_count": 31,
   "metadata": {
    "collapsed": false
   },
   "outputs": [
    {
     "data": {
      "text/html": [
       "<div>\n",
       "<table border=\"1\" class=\"dataframe\">\n",
       "  <thead>\n",
       "    <tr style=\"text-align: right;\">\n",
       "      <th></th>\n",
       "      <th>rating</th>\n",
       "      <th>review_count</th>\n",
       "      <th>isbn</th>\n",
       "      <th>booktype</th>\n",
       "      <th>author_url</th>\n",
       "      <th>year</th>\n",
       "      <th>genre_urls</th>\n",
       "      <th>dir</th>\n",
       "      <th>rating_count</th>\n",
       "      <th>name</th>\n",
       "    </tr>\n",
       "  </thead>\n",
       "  <tbody>\n",
       "    <tr>\n",
       "      <th>246</th>\n",
       "      <td>4.01</td>\n",
       "      <td>365</td>\n",
       "      <td>0147712556</td>\n",
       "      <td>good_reads:book</td>\n",
       "      <td>https://www.goodreads.com/author/show/903.Homer</td>\n",
       "      <td>-800.0</td>\n",
       "      <td>/genres/classics|/genres/fantasy|/genres/mytho...</td>\n",
       "      <td>dir03/1375.The_Iliad_The_Odyssey.html</td>\n",
       "      <td>35123</td>\n",
       "      <td>The Iliad/The Odyssey</td>\n",
       "    </tr>\n",
       "    <tr>\n",
       "      <th>746</th>\n",
       "      <td>4.06</td>\n",
       "      <td>1087</td>\n",
       "      <td>0140449183</td>\n",
       "      <td>good_reads:book</td>\n",
       "      <td>https://www.goodreads.com/author/show/5158478....</td>\n",
       "      <td>-500.0</td>\n",
       "      <td>/genres/classics|/genres/spirituality|/genres/...</td>\n",
       "      <td>dir08/99944.The_Bhagavad_Gita.html</td>\n",
       "      <td>31634</td>\n",
       "      <td>The Bhagavad Gita</td>\n",
       "    </tr>\n",
       "    <tr>\n",
       "      <th>1397</th>\n",
       "      <td>4.03</td>\n",
       "      <td>890</td>\n",
       "      <td>0192840509</td>\n",
       "      <td>good_reads:book</td>\n",
       "      <td>https://www.goodreads.com/author/show/12452.Aesop</td>\n",
       "      <td>-560.0</td>\n",
       "      <td>/genres/classics|/genres/childrens|/genres/lit...</td>\n",
       "      <td>dir14/21348.Aesop_s_Fables.html</td>\n",
       "      <td>71259</td>\n",
       "      <td>Aesop's Fables</td>\n",
       "    </tr>\n",
       "    <tr>\n",
       "      <th>1882</th>\n",
       "      <td>4.02</td>\n",
       "      <td>377</td>\n",
       "      <td>0872205541</td>\n",
       "      <td>good_reads:book</td>\n",
       "      <td>https://www.goodreads.com/author/show/879.Plato</td>\n",
       "      <td>-400.0</td>\n",
       "      <td>/genres/philosophy|/genres/classics|/genres/no...</td>\n",
       "      <td>dir19/22632.The_Trial_and_Death_of_Socrates.html</td>\n",
       "      <td>18712</td>\n",
       "      <td>The Trial and Death of Socrates</td>\n",
       "    </tr>\n",
       "    <tr>\n",
       "      <th>3133</th>\n",
       "      <td>4.30</td>\n",
       "      <td>131</td>\n",
       "      <td>0872203492</td>\n",
       "      <td>good_reads:book</td>\n",
       "      <td>https://www.goodreads.com/author/show/879.Plato</td>\n",
       "      <td>-400.0</td>\n",
       "      <td>/genres/philosophy|/genres/classics|/genres/no...</td>\n",
       "      <td>dir32/9462.Complete_Works.html</td>\n",
       "      <td>7454</td>\n",
       "      <td>Complete Works</td>\n",
       "    </tr>\n",
       "    <tr>\n",
       "      <th>4475</th>\n",
       "      <td>4.11</td>\n",
       "      <td>281</td>\n",
       "      <td>0865163480</td>\n",
       "      <td>good_reads:book</td>\n",
       "      <td>https://www.goodreads.com/author/show/879.Plato</td>\n",
       "      <td>-390.0</td>\n",
       "      <td>/genres/philosophy|/genres/classics|/genres/no...</td>\n",
       "      <td>dir45/73945.Apology.html</td>\n",
       "      <td>11478</td>\n",
       "      <td>Apology</td>\n",
       "    </tr>\n",
       "    <tr>\n",
       "      <th>5367</th>\n",
       "      <td>4.07</td>\n",
       "      <td>133</td>\n",
       "      <td>0872206335</td>\n",
       "      <td>good_reads:book</td>\n",
       "      <td>https://www.goodreads.com/author/show/879.Plato</td>\n",
       "      <td>-360.0</td>\n",
       "      <td>/genres/philosophy|/genres/classics|/genres/no...</td>\n",
       "      <td>dir54/30292.Five_Dialogues.html</td>\n",
       "      <td>9964</td>\n",
       "      <td>Five Dialogues</td>\n",
       "    </tr>\n",
       "  </tbody>\n",
       "</table>\n",
       "</div>"
      ],
      "text/plain": [
       "      rating review_count        isbn         booktype                                         author_url   year                                         genre_urls                                               dir rating_count                             name\n",
       "246     4.01          365  0147712556  good_reads:book    https://www.goodreads.com/author/show/903.Homer -800.0  /genres/classics|/genres/fantasy|/genres/mytho...             dir03/1375.The_Iliad_The_Odyssey.html        35123            The Iliad/The Odyssey\n",
       "746     4.06         1087  0140449183  good_reads:book  https://www.goodreads.com/author/show/5158478.... -500.0  /genres/classics|/genres/spirituality|/genres/...                dir08/99944.The_Bhagavad_Gita.html        31634                The Bhagavad Gita\n",
       "1397    4.03          890  0192840509  good_reads:book  https://www.goodreads.com/author/show/12452.Aesop -560.0  /genres/classics|/genres/childrens|/genres/lit...                   dir14/21348.Aesop_s_Fables.html        71259                   Aesop's Fables\n",
       "1882    4.02          377  0872205541  good_reads:book    https://www.goodreads.com/author/show/879.Plato -400.0  /genres/philosophy|/genres/classics|/genres/no...  dir19/22632.The_Trial_and_Death_of_Socrates.html        18712  The Trial and Death of Socrates\n",
       "3133    4.30          131  0872203492  good_reads:book    https://www.goodreads.com/author/show/879.Plato -400.0  /genres/philosophy|/genres/classics|/genres/no...                    dir32/9462.Complete_Works.html         7454                   Complete Works\n",
       "4475    4.11          281  0865163480  good_reads:book    https://www.goodreads.com/author/show/879.Plato -390.0  /genres/philosophy|/genres/classics|/genres/no...                          dir45/73945.Apology.html        11478                          Apology\n",
       "5367    4.07          133  0872206335  good_reads:book    https://www.goodreads.com/author/show/879.Plato -360.0  /genres/philosophy|/genres/classics|/genres/no...                   dir54/30292.Five_Dialogues.html         9964                   Five Dialogues"
      ]
     },
     "execution_count": 31,
     "metadata": {},
     "output_type": "execute_result"
    }
   ],
   "source": [
    "df[(df.year < 0) & (df.rating > 4)]#there were none greater than 4.5!"
   ]
  },
  {
   "cell_type": "markdown",
   "metadata": {},
   "source": [
    "### Cleaning"
   ]
  },
  {
   "cell_type": "markdown",
   "metadata": {},
   "source": [
    "We first check the datatypes. Notice that `review_count`, `rating_count` are of type `object` (which means they are either strings or Pandas couldnt figure what they are), while `year` is a float."
   ]
  },
  {
   "cell_type": "code",
   "execution_count": 32,
   "metadata": {
    "collapsed": false
   },
   "outputs": [
    {
     "data": {
      "text/plain": [
       "rating          float64\n",
       "review_count     object\n",
       "isbn             object\n",
       "booktype         object\n",
       "author_url       object\n",
       "year            float64\n",
       "genre_urls       object\n",
       "dir              object\n",
       "rating_count     object\n",
       "name             object\n",
       "dtype: object"
      ]
     },
     "execution_count": 32,
     "metadata": {},
     "output_type": "execute_result"
    }
   ],
   "source": [
    "df.dtypes"
   ]
  },
  {
   "cell_type": "markdown",
   "metadata": {},
   "source": [
    "Suppose we try and fix this\n",
    "But the dot notation does not work with weird characters"
   ]
  },
  {
   "cell_type": "code",
   "execution_count": 33,
   "metadata": {
    "collapsed": false
   },
   "outputs": [
    {
     "ename": "ValueError",
     "evalue": "invalid literal for long() with base 10: 'None'",
     "output_type": "error",
     "traceback": [
      "\u001b[0;31m---------------------------------------------------------------------------\u001b[0m",
      "\u001b[0;31mValueError\u001b[0m                                Traceback (most recent call last)",
      "\u001b[0;32m<ipython-input-33-8bf38ae9d108>\u001b[0m in \u001b[0;36m<module>\u001b[0;34m()\u001b[0m\n\u001b[0;32m----> 1\u001b[0;31m \u001b[0mdf\u001b[0m\u001b[0;34m[\u001b[0m\u001b[0;34m'rating_count'\u001b[0m\u001b[0;34m]\u001b[0m\u001b[0;34m=\u001b[0m\u001b[0mdf\u001b[0m\u001b[0;34m.\u001b[0m\u001b[0mrating_count\u001b[0m\u001b[0;34m.\u001b[0m\u001b[0mastype\u001b[0m\u001b[0;34m(\u001b[0m\u001b[0mint\u001b[0m\u001b[0;34m)\u001b[0m\u001b[0;34m\u001b[0m\u001b[0m\n\u001b[0m\u001b[1;32m      2\u001b[0m \u001b[0mdf\u001b[0m\u001b[0;34m[\u001b[0m\u001b[0;34m'review_count'\u001b[0m\u001b[0;34m]\u001b[0m\u001b[0;34m=\u001b[0m\u001b[0mdf\u001b[0m\u001b[0;34m.\u001b[0m\u001b[0mreview_count\u001b[0m\u001b[0;34m.\u001b[0m\u001b[0mastype\u001b[0m\u001b[0;34m(\u001b[0m\u001b[0mint\u001b[0m\u001b[0;34m)\u001b[0m\u001b[0;34m\u001b[0m\u001b[0m\n\u001b[1;32m      3\u001b[0m \u001b[0mdf\u001b[0m\u001b[0;34m[\u001b[0m\u001b[0;34m'year'\u001b[0m\u001b[0;34m]\u001b[0m\u001b[0;34m=\u001b[0m\u001b[0mdf\u001b[0m\u001b[0;34m.\u001b[0m\u001b[0myear\u001b[0m\u001b[0;34m.\u001b[0m\u001b[0mastype\u001b[0m\u001b[0;34m(\u001b[0m\u001b[0mint\u001b[0m\u001b[0;34m)\u001b[0m\u001b[0;34m\u001b[0m\u001b[0m\n",
      "\u001b[0;32m/home/helen/anaconda3/envs/HarvardCS109/lib/python2.7/site-packages/pandas/core/generic.pyc\u001b[0m in \u001b[0;36mastype\u001b[0;34m(self, dtype, copy, raise_on_error, **kwargs)\u001b[0m\n\u001b[1;32m   3052\u001b[0m         \u001b[0;31m# else, only a single dtype is given\u001b[0m\u001b[0;34m\u001b[0m\u001b[0;34m\u001b[0m\u001b[0m\n\u001b[1;32m   3053\u001b[0m         new_data = self._data.astype(dtype=dtype, copy=copy,\n\u001b[0;32m-> 3054\u001b[0;31m                                      raise_on_error=raise_on_error, **kwargs)\n\u001b[0m\u001b[1;32m   3055\u001b[0m         \u001b[0;32mreturn\u001b[0m \u001b[0mself\u001b[0m\u001b[0;34m.\u001b[0m\u001b[0m_constructor\u001b[0m\u001b[0;34m(\u001b[0m\u001b[0mnew_data\u001b[0m\u001b[0;34m)\u001b[0m\u001b[0;34m.\u001b[0m\u001b[0m__finalize__\u001b[0m\u001b[0;34m(\u001b[0m\u001b[0mself\u001b[0m\u001b[0;34m)\u001b[0m\u001b[0;34m\u001b[0m\u001b[0m\n\u001b[1;32m   3056\u001b[0m \u001b[0;34m\u001b[0m\u001b[0m\n",
      "\u001b[0;32m/home/helen/anaconda3/envs/HarvardCS109/lib/python2.7/site-packages/pandas/core/internals.pyc\u001b[0m in \u001b[0;36mastype\u001b[0;34m(self, dtype, **kwargs)\u001b[0m\n\u001b[1;32m   3166\u001b[0m \u001b[0;34m\u001b[0m\u001b[0m\n\u001b[1;32m   3167\u001b[0m     \u001b[0;32mdef\u001b[0m \u001b[0mastype\u001b[0m\u001b[0;34m(\u001b[0m\u001b[0mself\u001b[0m\u001b[0;34m,\u001b[0m \u001b[0mdtype\u001b[0m\u001b[0;34m,\u001b[0m \u001b[0;34m**\u001b[0m\u001b[0mkwargs\u001b[0m\u001b[0;34m)\u001b[0m\u001b[0;34m:\u001b[0m\u001b[0;34m\u001b[0m\u001b[0m\n\u001b[0;32m-> 3168\u001b[0;31m         \u001b[0;32mreturn\u001b[0m \u001b[0mself\u001b[0m\u001b[0;34m.\u001b[0m\u001b[0mapply\u001b[0m\u001b[0;34m(\u001b[0m\u001b[0;34m'astype'\u001b[0m\u001b[0;34m,\u001b[0m \u001b[0mdtype\u001b[0m\u001b[0;34m=\u001b[0m\u001b[0mdtype\u001b[0m\u001b[0;34m,\u001b[0m \u001b[0;34m**\u001b[0m\u001b[0mkwargs\u001b[0m\u001b[0;34m)\u001b[0m\u001b[0;34m\u001b[0m\u001b[0m\n\u001b[0m\u001b[1;32m   3169\u001b[0m \u001b[0;34m\u001b[0m\u001b[0m\n\u001b[1;32m   3170\u001b[0m     \u001b[0;32mdef\u001b[0m \u001b[0mconvert\u001b[0m\u001b[0;34m(\u001b[0m\u001b[0mself\u001b[0m\u001b[0;34m,\u001b[0m \u001b[0;34m**\u001b[0m\u001b[0mkwargs\u001b[0m\u001b[0;34m)\u001b[0m\u001b[0;34m:\u001b[0m\u001b[0;34m\u001b[0m\u001b[0m\n",
      "\u001b[0;32m/home/helen/anaconda3/envs/HarvardCS109/lib/python2.7/site-packages/pandas/core/internals.pyc\u001b[0m in \u001b[0;36mapply\u001b[0;34m(self, f, axes, filter, do_integrity_check, consolidate, **kwargs)\u001b[0m\n\u001b[1;32m   3033\u001b[0m \u001b[0;34m\u001b[0m\u001b[0m\n\u001b[1;32m   3034\u001b[0m             \u001b[0mkwargs\u001b[0m\u001b[0;34m[\u001b[0m\u001b[0;34m'mgr'\u001b[0m\u001b[0;34m]\u001b[0m \u001b[0;34m=\u001b[0m \u001b[0mself\u001b[0m\u001b[0;34m\u001b[0m\u001b[0m\n\u001b[0;32m-> 3035\u001b[0;31m             \u001b[0mapplied\u001b[0m \u001b[0;34m=\u001b[0m \u001b[0mgetattr\u001b[0m\u001b[0;34m(\u001b[0m\u001b[0mb\u001b[0m\u001b[0;34m,\u001b[0m \u001b[0mf\u001b[0m\u001b[0;34m)\u001b[0m\u001b[0;34m(\u001b[0m\u001b[0;34m**\u001b[0m\u001b[0mkwargs\u001b[0m\u001b[0;34m)\u001b[0m\u001b[0;34m\u001b[0m\u001b[0m\n\u001b[0m\u001b[1;32m   3036\u001b[0m             \u001b[0mresult_blocks\u001b[0m \u001b[0;34m=\u001b[0m \u001b[0m_extend_blocks\u001b[0m\u001b[0;34m(\u001b[0m\u001b[0mapplied\u001b[0m\u001b[0;34m,\u001b[0m \u001b[0mresult_blocks\u001b[0m\u001b[0;34m)\u001b[0m\u001b[0;34m\u001b[0m\u001b[0m\n\u001b[1;32m   3037\u001b[0m \u001b[0;34m\u001b[0m\u001b[0m\n",
      "\u001b[0;32m/home/helen/anaconda3/envs/HarvardCS109/lib/python2.7/site-packages/pandas/core/internals.pyc\u001b[0m in \u001b[0;36mastype\u001b[0;34m(self, dtype, copy, raise_on_error, values, **kwargs)\u001b[0m\n\u001b[1;32m    460\u001b[0m                **kwargs):\n\u001b[1;32m    461\u001b[0m         return self._astype(dtype, copy=copy, raise_on_error=raise_on_error,\n\u001b[0;32m--> 462\u001b[0;31m                             values=values, **kwargs)\n\u001b[0m\u001b[1;32m    463\u001b[0m \u001b[0;34m\u001b[0m\u001b[0m\n\u001b[1;32m    464\u001b[0m     def _astype(self, dtype, copy=False, raise_on_error=True, values=None,\n",
      "\u001b[0;32m/home/helen/anaconda3/envs/HarvardCS109/lib/python2.7/site-packages/pandas/core/internals.pyc\u001b[0m in \u001b[0;36m_astype\u001b[0;34m(self, dtype, copy, raise_on_error, values, klass, mgr, **kwargs)\u001b[0m\n\u001b[1;32m    503\u001b[0m \u001b[0;34m\u001b[0m\u001b[0m\n\u001b[1;32m    504\u001b[0m                 \u001b[0;31m# _astype_nansafe works fine with 1-d only\u001b[0m\u001b[0;34m\u001b[0m\u001b[0;34m\u001b[0m\u001b[0m\n\u001b[0;32m--> 505\u001b[0;31m                 \u001b[0mvalues\u001b[0m \u001b[0;34m=\u001b[0m \u001b[0m_astype_nansafe\u001b[0m\u001b[0;34m(\u001b[0m\u001b[0mvalues\u001b[0m\u001b[0;34m.\u001b[0m\u001b[0mravel\u001b[0m\u001b[0;34m(\u001b[0m\u001b[0;34m)\u001b[0m\u001b[0;34m,\u001b[0m \u001b[0mdtype\u001b[0m\u001b[0;34m,\u001b[0m \u001b[0mcopy\u001b[0m\u001b[0;34m=\u001b[0m\u001b[0mTrue\u001b[0m\u001b[0;34m)\u001b[0m\u001b[0;34m\u001b[0m\u001b[0m\n\u001b[0m\u001b[1;32m    506\u001b[0m                 \u001b[0mvalues\u001b[0m \u001b[0;34m=\u001b[0m \u001b[0mvalues\u001b[0m\u001b[0;34m.\u001b[0m\u001b[0mreshape\u001b[0m\u001b[0;34m(\u001b[0m\u001b[0mself\u001b[0m\u001b[0;34m.\u001b[0m\u001b[0mshape\u001b[0m\u001b[0;34m)\u001b[0m\u001b[0;34m\u001b[0m\u001b[0m\n\u001b[1;32m    507\u001b[0m \u001b[0;34m\u001b[0m\u001b[0m\n",
      "\u001b[0;32m/home/helen/anaconda3/envs/HarvardCS109/lib/python2.7/site-packages/pandas/types/cast.pyc\u001b[0m in \u001b[0;36m_astype_nansafe\u001b[0;34m(arr, dtype, copy)\u001b[0m\n\u001b[1;32m    532\u001b[0m     \u001b[0;32melif\u001b[0m \u001b[0marr\u001b[0m\u001b[0;34m.\u001b[0m\u001b[0mdtype\u001b[0m \u001b[0;34m==\u001b[0m \u001b[0mnp\u001b[0m\u001b[0;34m.\u001b[0m\u001b[0mobject_\u001b[0m \u001b[0;32mand\u001b[0m \u001b[0mnp\u001b[0m\u001b[0;34m.\u001b[0m\u001b[0missubdtype\u001b[0m\u001b[0;34m(\u001b[0m\u001b[0mdtype\u001b[0m\u001b[0;34m.\u001b[0m\u001b[0mtype\u001b[0m\u001b[0;34m,\u001b[0m \u001b[0mnp\u001b[0m\u001b[0;34m.\u001b[0m\u001b[0minteger\u001b[0m\u001b[0;34m)\u001b[0m\u001b[0;34m:\u001b[0m\u001b[0;34m\u001b[0m\u001b[0m\n\u001b[1;32m    533\u001b[0m         \u001b[0;31m# work around NumPy brokenness, #1987\u001b[0m\u001b[0;34m\u001b[0m\u001b[0;34m\u001b[0m\u001b[0m\n\u001b[0;32m--> 534\u001b[0;31m         \u001b[0;32mreturn\u001b[0m \u001b[0mlib\u001b[0m\u001b[0;34m.\u001b[0m\u001b[0mastype_intsafe\u001b[0m\u001b[0;34m(\u001b[0m\u001b[0marr\u001b[0m\u001b[0;34m.\u001b[0m\u001b[0mravel\u001b[0m\u001b[0;34m(\u001b[0m\u001b[0;34m)\u001b[0m\u001b[0;34m,\u001b[0m \u001b[0mdtype\u001b[0m\u001b[0;34m)\u001b[0m\u001b[0;34m.\u001b[0m\u001b[0mreshape\u001b[0m\u001b[0;34m(\u001b[0m\u001b[0marr\u001b[0m\u001b[0;34m.\u001b[0m\u001b[0mshape\u001b[0m\u001b[0;34m)\u001b[0m\u001b[0;34m\u001b[0m\u001b[0m\n\u001b[0m\u001b[1;32m    535\u001b[0m \u001b[0;34m\u001b[0m\u001b[0m\n\u001b[1;32m    536\u001b[0m     \u001b[0;32mif\u001b[0m \u001b[0mcopy\u001b[0m\u001b[0;34m:\u001b[0m\u001b[0;34m\u001b[0m\u001b[0m\n",
      "\u001b[0;32mpandas/lib.pyx\u001b[0m in \u001b[0;36mpandas.lib.astype_intsafe (pandas/lib.c:16816)\u001b[0;34m()\u001b[0m\n",
      "\u001b[0;32mpandas/src/util.pxd\u001b[0m in \u001b[0;36mutil.set_value_at (pandas/lib.c:69655)\u001b[0;34m()\u001b[0m\n",
      "\u001b[0;31mValueError\u001b[0m: invalid literal for long() with base 10: 'None'"
     ]
    }
   ],
   "source": [
    "df['rating_count']=df.rating_count.astype(int)\n",
    "df['review_count']=df.review_count.astype(int)\n",
    "df['year']=df.year.astype(int)"
   ]
  },
  {
   "cell_type": "markdown",
   "metadata": {},
   "source": [
    "Oppos we got an error. Something is not right. Its trying to convert some python datatype: `None` into an int. This usually means data was missing. Was it?"
   ]
  },
  {
   "cell_type": "code",
   "execution_count": 34,
   "metadata": {
    "collapsed": false
   },
   "outputs": [
    {
     "data": {
      "text/html": [
       "<div>\n",
       "<table border=\"1\" class=\"dataframe\">\n",
       "  <thead>\n",
       "    <tr style=\"text-align: right;\">\n",
       "      <th></th>\n",
       "      <th>rating</th>\n",
       "      <th>review_count</th>\n",
       "      <th>isbn</th>\n",
       "      <th>booktype</th>\n",
       "      <th>author_url</th>\n",
       "      <th>year</th>\n",
       "      <th>genre_urls</th>\n",
       "      <th>dir</th>\n",
       "      <th>rating_count</th>\n",
       "      <th>name</th>\n",
       "    </tr>\n",
       "  </thead>\n",
       "  <tbody>\n",
       "    <tr>\n",
       "      <th>2442</th>\n",
       "      <td>4.23</td>\n",
       "      <td>526</td>\n",
       "      <td>NaN</td>\n",
       "      <td>good_reads:book</td>\n",
       "      <td>https://www.goodreads.com/author/show/623606.A...</td>\n",
       "      <td>NaN</td>\n",
       "      <td>/genres/religion|/genres/islam|/genres/non-fic...</td>\n",
       "      <td>dir25/1301625.La_Tahzan.html</td>\n",
       "      <td>4134</td>\n",
       "      <td>La Tahzan</td>\n",
       "    </tr>\n",
       "    <tr>\n",
       "      <th>2869</th>\n",
       "      <td>4.61</td>\n",
       "      <td>2</td>\n",
       "      <td>NaN</td>\n",
       "      <td>good_reads:book</td>\n",
       "      <td>https://www.goodreads.com/author/show/8182217....</td>\n",
       "      <td>NaN</td>\n",
       "      <td>NaN</td>\n",
       "      <td>dir29/22031070-my-death-experiences---a-preach...</td>\n",
       "      <td>23</td>\n",
       "      <td>My Death Experiences - A Preacherâs 18 Apoca...</td>\n",
       "    </tr>\n",
       "    <tr>\n",
       "      <th>3643</th>\n",
       "      <td>NaN</td>\n",
       "      <td>None</td>\n",
       "      <td>None</td>\n",
       "      <td>None</td>\n",
       "      <td>None</td>\n",
       "      <td>NaN</td>\n",
       "      <td>NaN</td>\n",
       "      <td>dir37/9658936-harry-potter.html</td>\n",
       "      <td>None</td>\n",
       "      <td>None</td>\n",
       "    </tr>\n",
       "    <tr>\n",
       "      <th>5282</th>\n",
       "      <td>NaN</td>\n",
       "      <td>None</td>\n",
       "      <td>None</td>\n",
       "      <td>None</td>\n",
       "      <td>None</td>\n",
       "      <td>NaN</td>\n",
       "      <td>NaN</td>\n",
       "      <td>dir53/113138.The_Winner.html</td>\n",
       "      <td>None</td>\n",
       "      <td>None</td>\n",
       "    </tr>\n",
       "    <tr>\n",
       "      <th>5572</th>\n",
       "      <td>3.71</td>\n",
       "      <td>35</td>\n",
       "      <td>8423336603</td>\n",
       "      <td>good_reads:book</td>\n",
       "      <td>https://www.goodreads.com/author/show/285658.E...</td>\n",
       "      <td>NaN</td>\n",
       "      <td>/genres/fiction</td>\n",
       "      <td>dir56/890680._rase_una_vez_el_amor_pero_tuve_q...</td>\n",
       "      <td>403</td>\n",
       "      <td>Ãrase una vez el amor pero tuve que matarlo. ...</td>\n",
       "    </tr>\n",
       "    <tr>\n",
       "      <th>5658</th>\n",
       "      <td>4.32</td>\n",
       "      <td>44</td>\n",
       "      <td>NaN</td>\n",
       "      <td>good_reads:book</td>\n",
       "      <td>https://www.goodreads.com/author/show/25307.Ro...</td>\n",
       "      <td>NaN</td>\n",
       "      <td>/genres/fantasy|/genres/fantasy|/genres/epic-f...</td>\n",
       "      <td>dir57/5533041-assassin-s-apprentice-royal-assa...</td>\n",
       "      <td>3850</td>\n",
       "      <td>Assassin's Apprentice / Royal Assassin (Farsee...</td>\n",
       "    </tr>\n",
       "    <tr>\n",
       "      <th>5683</th>\n",
       "      <td>4.56</td>\n",
       "      <td>204</td>\n",
       "      <td>NaN</td>\n",
       "      <td>good_reads:book</td>\n",
       "      <td>https://www.goodreads.com/author/show/3097905....</td>\n",
       "      <td>NaN</td>\n",
       "      <td>/genres/fantasy|/genres/young-adult|/genres/ro...</td>\n",
       "      <td>dir57/12474623-tiger-s-dream.html</td>\n",
       "      <td>895</td>\n",
       "      <td>Tiger's Dream (The Tiger Saga, #5)</td>\n",
       "    </tr>\n",
       "  </tbody>\n",
       "</table>\n",
       "</div>"
      ],
      "text/plain": [
       "      rating review_count        isbn         booktype                                         author_url  year                                         genre_urls                                                dir rating_count                                               name\n",
       "2442    4.23          526         NaN  good_reads:book  https://www.goodreads.com/author/show/623606.A...   NaN  /genres/religion|/genres/islam|/genres/non-fic...                       dir25/1301625.La_Tahzan.html         4134                                          La Tahzan\n",
       "2869    4.61            2         NaN  good_reads:book  https://www.goodreads.com/author/show/8182217....   NaN                                                NaN  dir29/22031070-my-death-experiences---a-preach...           23  My Death Experiences - A Preacherâs 18 Apoca...\n",
       "3643     NaN         None        None             None                                               None   NaN                                                NaN                    dir37/9658936-harry-potter.html         None                                               None\n",
       "5282     NaN         None        None             None                                               None   NaN                                                NaN                       dir53/113138.The_Winner.html         None                                               None\n",
       "5572    3.71           35  8423336603  good_reads:book  https://www.goodreads.com/author/show/285658.E...   NaN                                    /genres/fiction  dir56/890680._rase_una_vez_el_amor_pero_tuve_q...          403  Ãrase una vez el amor pero tuve que matarlo. ...\n",
       "5658    4.32           44         NaN  good_reads:book  https://www.goodreads.com/author/show/25307.Ro...   NaN  /genres/fantasy|/genres/fantasy|/genres/epic-f...  dir57/5533041-assassin-s-apprentice-royal-assa...         3850  Assassin's Apprentice / Royal Assassin (Farsee...\n",
       "5683    4.56          204         NaN  good_reads:book  https://www.goodreads.com/author/show/3097905....   NaN  /genres/fantasy|/genres/young-adult|/genres/ro...                  dir57/12474623-tiger-s-dream.html          895                 Tiger's Dream (The Tiger Saga, #5)"
      ]
     },
     "execution_count": 34,
     "metadata": {},
     "output_type": "execute_result"
    }
   ],
   "source": [
    "df[df.year.isnull()]"
   ]
  },
  {
   "cell_type": "markdown",
   "metadata": {},
   "source": [
    "Aha, we had some incomplete data. Lets get rid of it"
   ]
  },
  {
   "cell_type": "code",
   "execution_count": 35,
   "metadata": {
    "collapsed": false
   },
   "outputs": [
    {
     "data": {
      "text/plain": [
       "(5993, 10)"
      ]
     },
     "execution_count": 35,
     "metadata": {},
     "output_type": "execute_result"
    }
   ],
   "source": [
    "df = df[df.year.notnull()]\n",
    "df.shape"
   ]
  },
  {
   "cell_type": "markdown",
   "metadata": {},
   "source": [
    "We removed those 7 rows. Lets try the type conversion again"
   ]
  },
  {
   "cell_type": "code",
   "execution_count": 36,
   "metadata": {
    "collapsed": true
   },
   "outputs": [],
   "source": [
    "df['rating_count']=df.rating_count.astype(int)\n",
    "df['review_count']=df.review_count.astype(int)\n",
    "df['year']=df.year.astype(int)"
   ]
  },
  {
   "cell_type": "code",
   "execution_count": 37,
   "metadata": {
    "collapsed": false
   },
   "outputs": [
    {
     "data": {
      "text/plain": [
       "rating          float64\n",
       "review_count      int32\n",
       "isbn             object\n",
       "booktype         object\n",
       "author_url       object\n",
       "year              int32\n",
       "genre_urls       object\n",
       "dir              object\n",
       "rating_count      int32\n",
       "name             object\n",
       "dtype: object"
      ]
     },
     "execution_count": 37,
     "metadata": {},
     "output_type": "execute_result"
    }
   ],
   "source": [
    "df.dtypes"
   ]
  },
  {
   "cell_type": "code",
   "execution_count": 38,
   "metadata": {
    "collapsed": false
   },
   "outputs": [
    {
     "data": {
      "text/plain": [
       "array([2958974, 1284478, 2579564, ...,    2971,    3083,    3982], dtype=int64)"
      ]
     },
     "execution_count": 38,
     "metadata": {},
     "output_type": "execute_result"
    }
   ],
   "source": [
    "df.rating_count.unique() # not useful for large numbers"
   ]
  },
  {
   "cell_type": "markdown",
   "metadata": {},
   "source": [
    "Much cleaner now!"
   ]
  },
  {
   "cell_type": "markdown",
   "metadata": {},
   "source": [
    "### Visualizing\n",
    "\n",
    "Pandas has handy built in visualization."
   ]
  },
  {
   "cell_type": "code",
   "execution_count": 39,
   "metadata": {
    "collapsed": false
   },
   "outputs": [
    {
     "data": {
      "image/png": "[encoded data removed]",
      "text/plain": [
       "<matplotlib.figure.Figure at 0xac87398c>"
      ]
     },
     "metadata": {},
     "output_type": "display_data"
    }
   ],
   "source": [
    "df.rating.hist();"
   ]
  },
  {
   "cell_type": "markdown",
   "metadata": {},
   "source": [
    "We can do this in more detail, plotting against a mean, with custom binsize or number of bins. Note how to label axes and create legends."
   ]
  },
  {
   "cell_type": "code",
   "execution_count": null,
   "metadata": {
    "collapsed": false
   },
   "outputs": [],
   "source": [
    "sns.set_context(\"notebook\")\n",
    "meanrat=df.rating.mean()\n",
    "#you can get means and medians in different ways\n",
    "print meanrat, np.mean(df.rating), df.rating.median()\n",
    "with sns.axes_style(\"whitegrid\"):\n",
    "    df.rating.hist(bins=30, alpha=0.4);\n",
    "    plt.axvline(meanrat, 0, 0.75, color='r', label='Mean')\n",
    "    plt.xlabel(\"average rating of book\")\n",
    "    plt.ylabel(\"Counts\")\n",
    "    plt.title(\"Ratings Histogram\")\n",
    "    plt.legend()\n",
    "    #sns.despine()"
   ]
  },
  {
   "cell_type": "markdown",
   "metadata": {},
   "source": [
    "One can see the sparseness of review counts. This will be important when we learn about recommendations: we'll have to *regularize* our models to deal with it."
   ]
  },
  {
   "cell_type": "code",
   "execution_count": null,
   "metadata": {
    "collapsed": false
   },
   "outputs": [],
   "source": [
    "df.review_count.hist(bins=np.arange(0, 40000, 400))"
   ]
  },
  {
   "cell_type": "markdown",
   "metadata": {},
   "source": [
    "The structure may be easier to see if we rescale the x-axis to be logarithmic."
   ]
  },
  {
   "cell_type": "code",
   "execution_count": null,
   "metadata": {
    "collapsed": false
   },
   "outputs": [],
   "source": [
    "df.review_count.hist(bins=100)\n",
    "plt.xscale(\"log\");"
   ]
  },
  {
   "cell_type": "markdown",
   "metadata": {},
   "source": [
    "Here we make a scatterplot in matplotlib of rating against year. By setting the alpha transparency low we can how the density of highly rated books on goodreads has changed."
   ]
  },
  {
   "cell_type": "code",
   "execution_count": null,
   "metadata": {
    "collapsed": false
   },
   "outputs": [],
   "source": [
    "plt.scatter(df.year, df.rating, lw=0, alpha=.08)\n",
    "plt.xlim([1900,2010])\n",
    "plt.xlabel(\"Year\")\n",
    "plt.ylabel(\"Rating\")"
   ]
  },
  {
   "cell_type": "markdown",
   "metadata": {},
   "source": [
    "###Pythons and ducks\n",
    "\n",
    "Notice that we used the series in the x-list and y-list slots in the `scatter` function in the `plt` module.\n",
    "\n",
    "In working with python I always remember: a python is a duck.\n",
    "\n",
    "What I mean is, python has a certain way of doing things. For example lets call one of these ways listiness. Listiness works on lists, dictionaries, files, and a general notion of something called an iterator.\n",
    "\n",
    "A Pandas series plays like a python list:"
   ]
  },
  {
   "cell_type": "code",
   "execution_count": null,
   "metadata": {
    "collapsed": true
   },
   "outputs": [],
   "source": [
    "alist=[1,2,3,4,5]"
   ]
  },
  {
   "cell_type": "markdown",
   "metadata": {},
   "source": [
    "We can construct another list by using the syntax below, also called a list comprehension."
   ]
  },
  {
   "cell_type": "code",
   "execution_count": null,
   "metadata": {
    "collapsed": false
   },
   "outputs": [],
   "source": [
    "asquaredlist=[i*i for i in alist]\n",
    "asquaredlist"
   ]
  },
  {
   "cell_type": "markdown",
   "metadata": {},
   "source": [
    "And then we can again make a scatterplot"
   ]
  },
  {
   "cell_type": "code",
   "execution_count": null,
   "metadata": {
    "collapsed": false
   },
   "outputs": [],
   "source": [
    "plt.scatter(alist, asquaredlist);"
   ]
  },
  {
   "cell_type": "code",
   "execution_count": null,
   "metadata": {
    "collapsed": false
   },
   "outputs": [],
   "source": [
    "print type(alist)"
   ]
  },
  {
   "cell_type": "markdown",
   "metadata": {},
   "source": [
    "In other words, something is a duck if it quacks like a duck. A Pandas series quacks like a python list. They both support something called the iterator protocol, an notion of behaving in a \"listy\" way. And Python functions like `plt.scatter` will accept anything that behaves listy. Indeed here's one more example:"
   ]
  },
  {
   "cell_type": "code",
   "execution_count": null,
   "metadata": {
    "collapsed": false
   },
   "outputs": [],
   "source": [
    "plt.hist(df.rating_count.values, bins=100, alpha=0.5);"
   ]
  },
  {
   "cell_type": "code",
   "execution_count": null,
   "metadata": {
    "collapsed": false
   },
   "outputs": [],
   "source": [
    "print type(df.rating_count), type(df.rating_count.values)"
   ]
  },
  {
   "cell_type": "markdown",
   "metadata": {},
   "source": [
    "Series and numpy lists behave similarly as well.\n",
    "\n",
    "\n",
    "### Vectorization\n",
    "\n",
    "Numpy arrays are a bit different from regular python lists, and are the bread and butter of data science. Pandas Series are built atop them. "
   ]
  },
  {
   "cell_type": "code",
   "execution_count": null,
   "metadata": {
    "collapsed": false
   },
   "outputs": [],
   "source": [
    "alist + alist"
   ]
  },
  {
   "cell_type": "code",
   "execution_count": null,
   "metadata": {
    "collapsed": false
   },
   "outputs": [],
   "source": [
    "np.array(alist)"
   ]
  },
  {
   "cell_type": "code",
   "execution_count": null,
   "metadata": {
    "collapsed": false
   },
   "outputs": [],
   "source": [
    "np.array(alist)+np.array(alist)"
   ]
  },
  {
   "cell_type": "code",
   "execution_count": null,
   "metadata": {
    "collapsed": false
   },
   "outputs": [],
   "source": [
    "np.array(alist)**2"
   ]
  },
  {
   "cell_type": "markdown",
   "metadata": {},
   "source": [
    "In other words, operations on numpy arrays, and by extension, Pandas Series, are **vectorized**. You can add two numpy lists by just using `+` whereas the result isnt what you might expect for regular python lists. To add regular python lists elementwise, you will need to use a loop:"
   ]
  },
  {
   "cell_type": "code",
   "execution_count": null,
   "metadata": {
    "collapsed": false
   },
   "outputs": [],
   "source": [
    "newlist=[]\n",
    "for item in alist:\n",
    "    newlist.append(item+item)\n",
    "newlist"
   ]
  },
  {
   "cell_type": "markdown",
   "metadata": {},
   "source": [
    "**Vectorization** is a powerful idiom, and we will use it a lot in this class. And, for almost all data intensive computing, we will use numpy arrays rather than python lists, as the python numerical stack is based on it. \n",
    "\n",
    "You have seen this in idea in spreadsheets where you add an entire column to another one.\n",
    "\n",
    "Two final examples"
   ]
  },
  {
   "cell_type": "code",
   "execution_count": null,
   "metadata": {
    "collapsed": false
   },
   "outputs": [],
   "source": [
    "a=np.array([1,2,3,4,5])\n",
    "print type(a)\n",
    "b=np.array([1,2,3,4,5])\n",
    "\n",
    "print a*b"
   ]
  },
  {
   "cell_type": "code",
   "execution_count": null,
   "metadata": {
    "collapsed": false
   },
   "outputs": [],
   "source": [
    "a+1"
   ]
  }
 ],
 "metadata": {
  "anaconda-cloud": {},
  "kernelspec": {
   "display_name": "Python (HarvardCS109)",
   "language": "python",
   "name": "python2"
  },
  "language_info": {
   "codemirror_mode": {
    "name": "ipython",
    "version": 2
   },
   "file_extension": ".py",
   "mimetype": "text/x-python",
   "name": "python",
   "nbconvert_exporter": "python",
   "pygments_lexer": "ipython2",
   "version": "2.7.12"
  }
 },
 "nbformat": 4,
 "nbformat_minor": 0
}
